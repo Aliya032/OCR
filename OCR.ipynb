{
  "nbformat": 4,
  "nbformat_minor": 0,
  "metadata": {
    "colab": {
      "provenance": [],
      "gpuType": "V28",
      "authorship_tag": "ABX9TyMVouTmuPiORaiwu70AkICt",
      "include_colab_link": true
    },
    "kernelspec": {
      "name": "python3",
      "display_name": "Python 3"
    },
    "language_info": {
      "name": "python"
    },
    "accelerator": "TPU"
  },
  "cells": [
    {
      "cell_type": "markdown",
      "metadata": {
        "id": "view-in-github",
        "colab_type": "text"
      },
      "source": [
        "<a href=\"https://colab.research.google.com/github/Aliya032/OCR/blob/main/OCR.ipynb\" target=\"_parent\"><img src=\"https://colab.research.google.com/assets/colab-badge.svg\" alt=\"Open In Colab\"/></a>"
      ]
    },
    {
      "cell_type": "code",
      "execution_count": 2,
      "metadata": {
        "id": "NrQBHyq0hlja"
      },
      "outputs": [],
      "source": [
        "import cv2\n",
        "import numpy as np\n",
        "import pandas as pd\n",
        "import matplotlib.pyplot as plt\n",
        "import seaborn as sns\n",
        "import os\n",
        "\n",
        "from sklearn.model_selection import train_test_split\n",
        "from sklearn.metrics import classification_report"
      ]
    },
    {
      "cell_type": "code",
      "source": [
        "# Tensorflow packages\n",
        "import tensorflow as tf\n",
        "from tensorflow.keras.preprocessing.image import ImageDataGenerator\n",
        "from tensorflow.keras.models import Sequential\n",
        "from tensorflow.keras.layers import (Dense, Dropout, Conv2D, MaxPool2D, BatchNormalization, Flatten, GlobalAveragePooling2D, Input)\n",
        "from tensorflow.keras.optimizers import Adam\n",
        "from tensorflow.keras.callbacks import EarlyStopping, ModelCheckpoint, ReduceLROnPlateau, LearningRateScheduler\n",
        "from tensorflow.keras.applications import EfficientNetB7, MobileNetV2, VGG19, DenseNet121"
      ],
      "metadata": {
        "id": "pIgrsbl-h9Nf"
      },
      "execution_count": 3,
      "outputs": []
    },
    {
      "cell_type": "code",
      "source": [
        "!pip install opendatasets"
      ],
      "metadata": {
        "colab": {
          "base_uri": "https://localhost:8080/"
        },
        "id": "qV9yfC5Cilax",
        "outputId": "0a0ccb47-4391-4e41-8d65-046e4e8ee9e6"
      },
      "execution_count": 8,
      "outputs": [
        {
          "output_type": "stream",
          "name": "stdout",
          "text": [
            "Collecting opendatasets\n",
            "  Downloading opendatasets-0.1.22-py3-none-any.whl.metadata (9.2 kB)\n",
            "Requirement already satisfied: tqdm in /usr/local/lib/python3.10/dist-packages (from opendatasets) (4.66.6)\n",
            "Requirement already satisfied: kaggle in /usr/local/lib/python3.10/dist-packages (from opendatasets) (1.6.17)\n",
            "Requirement already satisfied: click in /usr/local/lib/python3.10/dist-packages (from opendatasets) (8.1.7)\n",
            "Requirement already satisfied: six>=1.10 in /usr/local/lib/python3.10/dist-packages (from kaggle->opendatasets) (1.16.0)\n",
            "Requirement already satisfied: certifi>=2023.7.22 in /usr/local/lib/python3.10/dist-packages (from kaggle->opendatasets) (2024.8.30)\n",
            "Requirement already satisfied: python-dateutil in /usr/local/lib/python3.10/dist-packages (from kaggle->opendatasets) (2.9.0.post0)\n",
            "Requirement already satisfied: requests in /usr/local/lib/python3.10/dist-packages (from kaggle->opendatasets) (2.32.3)\n",
            "Requirement already satisfied: python-slugify in /usr/local/lib/python3.10/dist-packages (from kaggle->opendatasets) (8.0.4)\n",
            "Requirement already satisfied: urllib3 in /usr/local/lib/python3.10/dist-packages (from kaggle->opendatasets) (2.2.3)\n",
            "Requirement already satisfied: bleach in /usr/local/lib/python3.10/dist-packages (from kaggle->opendatasets) (6.2.0)\n",
            "Requirement already satisfied: webencodings in /usr/local/lib/python3.10/dist-packages (from bleach->kaggle->opendatasets) (0.5.1)\n",
            "Requirement already satisfied: text-unidecode>=1.3 in /usr/local/lib/python3.10/dist-packages (from python-slugify->kaggle->opendatasets) (1.3)\n",
            "Requirement already satisfied: charset-normalizer<4,>=2 in /usr/local/lib/python3.10/dist-packages (from requests->kaggle->opendatasets) (3.4.0)\n",
            "Requirement already satisfied: idna<4,>=2.5 in /usr/local/lib/python3.10/dist-packages (from requests->kaggle->opendatasets) (3.10)\n",
            "Downloading opendatasets-0.1.22-py3-none-any.whl (15 kB)\n",
            "Installing collected packages: opendatasets\n",
            "Successfully installed opendatasets-0.1.22\n"
          ]
        }
      ]
    },
    {
      "cell_type": "code",
      "source": [
        "import opendatasets as od\n",
        "import pandas"
      ],
      "metadata": {
        "id": "Ikra-qRUkL2p"
      },
      "execution_count": 9,
      "outputs": []
    },
    {
      "cell_type": "code",
      "source": [
        "od.download('https://www.kaggle.com/datasets/harieh/ocr-dataset/')"
      ],
      "metadata": {
        "colab": {
          "base_uri": "https://localhost:8080/"
        },
        "id": "xAM2Z-WMkw9z",
        "outputId": "29f8723e-e6ea-4ef8-bab6-74c9620905b2"
      },
      "execution_count": 18,
      "outputs": [
        {
          "output_type": "stream",
          "name": "stdout",
          "text": [
            "Please provide your Kaggle credentials to download this dataset. Learn more: http://bit.ly/kaggle-creds\n",
            "Your Kaggle username: aliyafatima032\n",
            "Your Kaggle Key: ··········\n",
            "Dataset URL: https://www.kaggle.com/datasets/harieh/ocr-dataset\n",
            "Downloading ocr-dataset.zip to ./ocr-dataset\n"
          ]
        },
        {
          "output_type": "stream",
          "name": "stderr",
          "text": [
            "100%|██████████| 153M/153M [00:00<00:00, 165MB/s]\n"
          ]
        },
        {
          "output_type": "stream",
          "name": "stdout",
          "text": [
            "\n"
          ]
        }
      ]
    },
    {
      "cell_type": "code",
      "source": [
        "def directory_to_df(path: '/content/ocr-dataset/dataset'):\n",
        "  df = []\n",
        "  chars = 'abcdefghijklmnopqrstuvwxyz' # to include lowercase letters only\n",
        "  for cls in os.listdir(path):\n",
        "    cls_path = os.path.join(path, cls)\n",
        "    cls_name = cls.split('_')[0]\n",
        "    if not cls_name in chars:\n",
        "      continue\n",
        "    for img_path in os.listdir(cls_path):\n",
        "      direct = os.path.join(cls_path, img_path)\n",
        "      df.append([direct, cls_name])\n",
        "\n",
        "  df = pd.DataFrame(df, columns=['image', 'label'])\n",
        "  print('The number of samples found: ', len(df))\n",
        "  return df.copy()\n"
      ],
      "metadata": {
        "id": "moVXjR9cmZ3z"
      },
      "execution_count": 10,
      "outputs": []
    },
    {
      "cell_type": "code",
      "source": [
        "def read_image(path):\n",
        "    \"\"\"\n",
        "    Read an image from specified directory\n",
        "    _____________________________________________________________\n",
        "    Arguments:\n",
        "\n",
        "    path: String -> a directory of the image\n",
        "    _____________________________________________________________\n",
        "    Return:\n",
        "\n",
        "    image: numpy.array of the image\n",
        "    \"\"\"\n",
        "    image = cv2.imread(path)\n",
        "    image = cv2.cvtColor(image, cv2.COLOR_BGR2RGB)\n",
        "    return image\n",
        "\n"
      ],
      "metadata": {
        "id": "n75LeK8Ckzqa"
      },
      "execution_count": 12,
      "outputs": []
    },
    {
      "cell_type": "code",
      "source": [
        "\n",
        "def show_image(img, label=None) -> None:\n",
        "    \"\"\"\n",
        "    This function to display any image\n",
        "    _________________________________________________________\n",
        "    Arguements:\n",
        "\n",
        "    img: numpy.array of N-D\n",
        "\n",
        "    label: String -> the title/label added with the image, Default= None\n",
        "    _________________________________________________________\n",
        "    Return:\n",
        "\n",
        "    plt.imshow()\n",
        "    \"\"\"\n",
        "    plt.imshow(img, cmap='gray')\n",
        "    plt.axis(False)\n",
        "    plt.title(label)\n",
        "    plt.show()\n"
      ],
      "metadata": {
        "id": "O-2J7SPSsrJ3"
      },
      "execution_count": 14,
      "outputs": []
    },
    {
      "cell_type": "code",
      "source": [
        "def clbck(model_name):\n",
        "    # The function is defined to make the callbacks for training the models\n",
        "    ERLY = EarlyStopping(patience=10, min_delta=0.01, start_from_epoch=10, verbose=1)\n",
        "    RD = ReduceLROnPlateau(patience=5, min_delta=0.01, factor=0.5)\n",
        "    CHK = ModelCheckpoint(f'{model_name}_model.keras',verbose=1, save_best_only=True)\n",
        "    return [ERLY,RD,CHK]"
      ],
      "metadata": {
        "id": "DF83KhSPsswt"
      },
      "execution_count": 15,
      "outputs": []
    },
    {
      "cell_type": "code",
      "source": [
        "# pre-defined hyperparameters\n",
        "IMG_SHAPE = (32,32)\n",
        "IMG_SIZE = (32,32,3)\n",
        "BATCH_SIZE = 32\n",
        "opt = Adam(learning_rate = 0.00001, epsilon=1e-16)\n",
        "loss = 'categorical_crossentropy'\n",
        "EPOCHS = 10"
      ],
      "metadata": {
        "id": "R7dAuAJYtaYc"
      },
      "execution_count": 16,
      "outputs": []
    },
    {
      "cell_type": "markdown",
      "source": [
        "## 3. Reading & preparing the dataset"
      ],
      "metadata": {
        "id": "ovnX-WXiuRlW"
      }
    },
    {
      "cell_type": "code",
      "source": [
        "# Reading the dataset in dataframe\n",
        "main_path = '/content/ocr-dataset/dataset'\n",
        "df = directory_to_df(main_path) #convert the dataset into df of two columns\n",
        "df.head()\n"
      ],
      "metadata": {
        "colab": {
          "base_uri": "https://localhost:8080/",
          "height": 224
        },
        "id": "F33TcZLguSMr",
        "outputId": "4a42faeb-2fd5-414f-de3e-cf34305b6801"
      },
      "execution_count": 19,
      "outputs": [
        {
          "output_type": "stream",
          "name": "stdout",
          "text": [
            "The number of samples found:  85199\n"
          ]
        },
        {
          "output_type": "execute_result",
          "data": {
            "text/plain": [
              "                                           image label\n",
              "0   /content/ocr-dataset/dataset/h_L/H_L_830.png     h\n",
              "1  /content/ocr-dataset/dataset/h_L/H_L_1884.png     h\n",
              "2   /content/ocr-dataset/dataset/h_L/H_L_979.png     h\n",
              "3  /content/ocr-dataset/dataset/h_L/H_L_1942.png     h\n",
              "4  /content/ocr-dataset/dataset/h_L/H_L_2603.png     h"
            ],
            "text/html": [
              "\n",
              "  <div id=\"df-ec447cd9-dd70-4022-8726-1093a58a5c73\" class=\"colab-df-container\">\n",
              "    <div>\n",
              "<style scoped>\n",
              "    .dataframe tbody tr th:only-of-type {\n",
              "        vertical-align: middle;\n",
              "    }\n",
              "\n",
              "    .dataframe tbody tr th {\n",
              "        vertical-align: top;\n",
              "    }\n",
              "\n",
              "    .dataframe thead th {\n",
              "        text-align: right;\n",
              "    }\n",
              "</style>\n",
              "<table border=\"1\" class=\"dataframe\">\n",
              "  <thead>\n",
              "    <tr style=\"text-align: right;\">\n",
              "      <th></th>\n",
              "      <th>image</th>\n",
              "      <th>label</th>\n",
              "    </tr>\n",
              "  </thead>\n",
              "  <tbody>\n",
              "    <tr>\n",
              "      <th>0</th>\n",
              "      <td>/content/ocr-dataset/dataset/h_L/H_L_830.png</td>\n",
              "      <td>h</td>\n",
              "    </tr>\n",
              "    <tr>\n",
              "      <th>1</th>\n",
              "      <td>/content/ocr-dataset/dataset/h_L/H_L_1884.png</td>\n",
              "      <td>h</td>\n",
              "    </tr>\n",
              "    <tr>\n",
              "      <th>2</th>\n",
              "      <td>/content/ocr-dataset/dataset/h_L/H_L_979.png</td>\n",
              "      <td>h</td>\n",
              "    </tr>\n",
              "    <tr>\n",
              "      <th>3</th>\n",
              "      <td>/content/ocr-dataset/dataset/h_L/H_L_1942.png</td>\n",
              "      <td>h</td>\n",
              "    </tr>\n",
              "    <tr>\n",
              "      <th>4</th>\n",
              "      <td>/content/ocr-dataset/dataset/h_L/H_L_2603.png</td>\n",
              "      <td>h</td>\n",
              "    </tr>\n",
              "  </tbody>\n",
              "</table>\n",
              "</div>\n",
              "    <div class=\"colab-df-buttons\">\n",
              "\n",
              "  <div class=\"colab-df-container\">\n",
              "    <button class=\"colab-df-convert\" onclick=\"convertToInteractive('df-ec447cd9-dd70-4022-8726-1093a58a5c73')\"\n",
              "            title=\"Convert this dataframe to an interactive table.\"\n",
              "            style=\"display:none;\">\n",
              "\n",
              "  <svg xmlns=\"http://www.w3.org/2000/svg\" height=\"24px\" viewBox=\"0 -960 960 960\">\n",
              "    <path d=\"M120-120v-720h720v720H120Zm60-500h600v-160H180v160Zm220 220h160v-160H400v160Zm0 220h160v-160H400v160ZM180-400h160v-160H180v160Zm440 0h160v-160H620v160ZM180-180h160v-160H180v160Zm440 0h160v-160H620v160Z\"/>\n",
              "  </svg>\n",
              "    </button>\n",
              "\n",
              "  <style>\n",
              "    .colab-df-container {\n",
              "      display:flex;\n",
              "      gap: 12px;\n",
              "    }\n",
              "\n",
              "    .colab-df-convert {\n",
              "      background-color: #E8F0FE;\n",
              "      border: none;\n",
              "      border-radius: 50%;\n",
              "      cursor: pointer;\n",
              "      display: none;\n",
              "      fill: #1967D2;\n",
              "      height: 32px;\n",
              "      padding: 0 0 0 0;\n",
              "      width: 32px;\n",
              "    }\n",
              "\n",
              "    .colab-df-convert:hover {\n",
              "      background-color: #E2EBFA;\n",
              "      box-shadow: 0px 1px 2px rgba(60, 64, 67, 0.3), 0px 1px 3px 1px rgba(60, 64, 67, 0.15);\n",
              "      fill: #174EA6;\n",
              "    }\n",
              "\n",
              "    .colab-df-buttons div {\n",
              "      margin-bottom: 4px;\n",
              "    }\n",
              "\n",
              "    [theme=dark] .colab-df-convert {\n",
              "      background-color: #3B4455;\n",
              "      fill: #D2E3FC;\n",
              "    }\n",
              "\n",
              "    [theme=dark] .colab-df-convert:hover {\n",
              "      background-color: #434B5C;\n",
              "      box-shadow: 0px 1px 3px 1px rgba(0, 0, 0, 0.15);\n",
              "      filter: drop-shadow(0px 1px 2px rgba(0, 0, 0, 0.3));\n",
              "      fill: #FFFFFF;\n",
              "    }\n",
              "  </style>\n",
              "\n",
              "    <script>\n",
              "      const buttonEl =\n",
              "        document.querySelector('#df-ec447cd9-dd70-4022-8726-1093a58a5c73 button.colab-df-convert');\n",
              "      buttonEl.style.display =\n",
              "        google.colab.kernel.accessAllowed ? 'block' : 'none';\n",
              "\n",
              "      async function convertToInteractive(key) {\n",
              "        const element = document.querySelector('#df-ec447cd9-dd70-4022-8726-1093a58a5c73');\n",
              "        const dataTable =\n",
              "          await google.colab.kernel.invokeFunction('convertToInteractive',\n",
              "                                                    [key], {});\n",
              "        if (!dataTable) return;\n",
              "\n",
              "        const docLinkHtml = 'Like what you see? Visit the ' +\n",
              "          '<a target=\"_blank\" href=https://colab.research.google.com/notebooks/data_table.ipynb>data table notebook</a>'\n",
              "          + ' to learn more about interactive tables.';\n",
              "        element.innerHTML = '';\n",
              "        dataTable['output_type'] = 'display_data';\n",
              "        await google.colab.output.renderOutput(dataTable, element);\n",
              "        const docLink = document.createElement('div');\n",
              "        docLink.innerHTML = docLinkHtml;\n",
              "        element.appendChild(docLink);\n",
              "      }\n",
              "    </script>\n",
              "  </div>\n",
              "\n",
              "\n",
              "<div id=\"df-4224d2ec-a7f6-47b0-a12c-40ace31761f0\">\n",
              "  <button class=\"colab-df-quickchart\" onclick=\"quickchart('df-4224d2ec-a7f6-47b0-a12c-40ace31761f0')\"\n",
              "            title=\"Suggest charts\"\n",
              "            style=\"display:none;\">\n",
              "\n",
              "<svg xmlns=\"http://www.w3.org/2000/svg\" height=\"24px\"viewBox=\"0 0 24 24\"\n",
              "     width=\"24px\">\n",
              "    <g>\n",
              "        <path d=\"M19 3H5c-1.1 0-2 .9-2 2v14c0 1.1.9 2 2 2h14c1.1 0 2-.9 2-2V5c0-1.1-.9-2-2-2zM9 17H7v-7h2v7zm4 0h-2V7h2v10zm4 0h-2v-4h2v4z\"/>\n",
              "    </g>\n",
              "</svg>\n",
              "  </button>\n",
              "\n",
              "<style>\n",
              "  .colab-df-quickchart {\n",
              "      --bg-color: #E8F0FE;\n",
              "      --fill-color: #1967D2;\n",
              "      --hover-bg-color: #E2EBFA;\n",
              "      --hover-fill-color: #174EA6;\n",
              "      --disabled-fill-color: #AAA;\n",
              "      --disabled-bg-color: #DDD;\n",
              "  }\n",
              "\n",
              "  [theme=dark] .colab-df-quickchart {\n",
              "      --bg-color: #3B4455;\n",
              "      --fill-color: #D2E3FC;\n",
              "      --hover-bg-color: #434B5C;\n",
              "      --hover-fill-color: #FFFFFF;\n",
              "      --disabled-bg-color: #3B4455;\n",
              "      --disabled-fill-color: #666;\n",
              "  }\n",
              "\n",
              "  .colab-df-quickchart {\n",
              "    background-color: var(--bg-color);\n",
              "    border: none;\n",
              "    border-radius: 50%;\n",
              "    cursor: pointer;\n",
              "    display: none;\n",
              "    fill: var(--fill-color);\n",
              "    height: 32px;\n",
              "    padding: 0;\n",
              "    width: 32px;\n",
              "  }\n",
              "\n",
              "  .colab-df-quickchart:hover {\n",
              "    background-color: var(--hover-bg-color);\n",
              "    box-shadow: 0 1px 2px rgba(60, 64, 67, 0.3), 0 1px 3px 1px rgba(60, 64, 67, 0.15);\n",
              "    fill: var(--button-hover-fill-color);\n",
              "  }\n",
              "\n",
              "  .colab-df-quickchart-complete:disabled,\n",
              "  .colab-df-quickchart-complete:disabled:hover {\n",
              "    background-color: var(--disabled-bg-color);\n",
              "    fill: var(--disabled-fill-color);\n",
              "    box-shadow: none;\n",
              "  }\n",
              "\n",
              "  .colab-df-spinner {\n",
              "    border: 2px solid var(--fill-color);\n",
              "    border-color: transparent;\n",
              "    border-bottom-color: var(--fill-color);\n",
              "    animation:\n",
              "      spin 1s steps(1) infinite;\n",
              "  }\n",
              "\n",
              "  @keyframes spin {\n",
              "    0% {\n",
              "      border-color: transparent;\n",
              "      border-bottom-color: var(--fill-color);\n",
              "      border-left-color: var(--fill-color);\n",
              "    }\n",
              "    20% {\n",
              "      border-color: transparent;\n",
              "      border-left-color: var(--fill-color);\n",
              "      border-top-color: var(--fill-color);\n",
              "    }\n",
              "    30% {\n",
              "      border-color: transparent;\n",
              "      border-left-color: var(--fill-color);\n",
              "      border-top-color: var(--fill-color);\n",
              "      border-right-color: var(--fill-color);\n",
              "    }\n",
              "    40% {\n",
              "      border-color: transparent;\n",
              "      border-right-color: var(--fill-color);\n",
              "      border-top-color: var(--fill-color);\n",
              "    }\n",
              "    60% {\n",
              "      border-color: transparent;\n",
              "      border-right-color: var(--fill-color);\n",
              "    }\n",
              "    80% {\n",
              "      border-color: transparent;\n",
              "      border-right-color: var(--fill-color);\n",
              "      border-bottom-color: var(--fill-color);\n",
              "    }\n",
              "    90% {\n",
              "      border-color: transparent;\n",
              "      border-bottom-color: var(--fill-color);\n",
              "    }\n",
              "  }\n",
              "</style>\n",
              "\n",
              "  <script>\n",
              "    async function quickchart(key) {\n",
              "      const quickchartButtonEl =\n",
              "        document.querySelector('#' + key + ' button');\n",
              "      quickchartButtonEl.disabled = true;  // To prevent multiple clicks.\n",
              "      quickchartButtonEl.classList.add('colab-df-spinner');\n",
              "      try {\n",
              "        const charts = await google.colab.kernel.invokeFunction(\n",
              "            'suggestCharts', [key], {});\n",
              "      } catch (error) {\n",
              "        console.error('Error during call to suggestCharts:', error);\n",
              "      }\n",
              "      quickchartButtonEl.classList.remove('colab-df-spinner');\n",
              "      quickchartButtonEl.classList.add('colab-df-quickchart-complete');\n",
              "    }\n",
              "    (() => {\n",
              "      let quickchartButtonEl =\n",
              "        document.querySelector('#df-4224d2ec-a7f6-47b0-a12c-40ace31761f0 button');\n",
              "      quickchartButtonEl.style.display =\n",
              "        google.colab.kernel.accessAllowed ? 'block' : 'none';\n",
              "    })();\n",
              "  </script>\n",
              "</div>\n",
              "\n",
              "    </div>\n",
              "  </div>\n"
            ],
            "application/vnd.google.colaboratory.intrinsic+json": {
              "type": "dataframe",
              "variable_name": "df",
              "summary": "{\n  \"name\": \"df\",\n  \"rows\": 85199,\n  \"fields\": [\n    {\n      \"column\": \"image\",\n      \"properties\": {\n        \"dtype\": \"string\",\n        \"num_unique_values\": 85199,\n        \"samples\": [\n          \"/content/ocr-dataset/dataset/m_L/M_L_34.png\",\n          \"/content/ocr-dataset/dataset/v_L/V_L_2958.png\",\n          \"/content/ocr-dataset/dataset/v_L/V_L_2468.png\"\n        ],\n        \"semantic_type\": \"\",\n        \"description\": \"\"\n      }\n    },\n    {\n      \"column\": \"label\",\n      \"properties\": {\n        \"dtype\": \"category\",\n        \"num_unique_values\": 26,\n        \"samples\": [\n          \"e\",\n          \"j\",\n          \"h\"\n        ],\n        \"semantic_type\": \"\",\n        \"description\": \"\"\n      }\n    }\n  ]\n}"
            }
          },
          "metadata": {},
          "execution_count": 19
        }
      ]
    },
    {
      "cell_type": "code",
      "source": [
        "df['label'].value_counts()"
      ],
      "metadata": {
        "colab": {
          "base_uri": "https://localhost:8080/",
          "height": 931
        },
        "id": "3VGvo0S4u3_1",
        "outputId": "e4749dea-7db3-4ee4-bfe7-ac0ef4d2d69d"
      },
      "execution_count": 20,
      "outputs": [
        {
          "output_type": "execute_result",
          "data": {
            "text/plain": [
              "label\n",
              "e    3284\n",
              "r    3284\n",
              "m    3281\n",
              "n    3281\n",
              "a    3281\n",
              "q    3279\n",
              "u    3278\n",
              "i    3277\n",
              "d    3277\n",
              "t    3276\n",
              "y    3276\n",
              "x    3276\n",
              "l    3276\n",
              "k    3276\n",
              "s    3276\n",
              "h    3275\n",
              "p    3275\n",
              "g    3275\n",
              "w    3275\n",
              "z    3275\n",
              "o    3275\n",
              "f    3275\n",
              "b    3274\n",
              "v    3274\n",
              "c    3274\n",
              "j    3274\n",
              "Name: count, dtype: int64"
            ],
            "text/html": [
              "<div>\n",
              "<style scoped>\n",
              "    .dataframe tbody tr th:only-of-type {\n",
              "        vertical-align: middle;\n",
              "    }\n",
              "\n",
              "    .dataframe tbody tr th {\n",
              "        vertical-align: top;\n",
              "    }\n",
              "\n",
              "    .dataframe thead th {\n",
              "        text-align: right;\n",
              "    }\n",
              "</style>\n",
              "<table border=\"1\" class=\"dataframe\">\n",
              "  <thead>\n",
              "    <tr style=\"text-align: right;\">\n",
              "      <th></th>\n",
              "      <th>count</th>\n",
              "    </tr>\n",
              "    <tr>\n",
              "      <th>label</th>\n",
              "      <th></th>\n",
              "    </tr>\n",
              "  </thead>\n",
              "  <tbody>\n",
              "    <tr>\n",
              "      <th>e</th>\n",
              "      <td>3284</td>\n",
              "    </tr>\n",
              "    <tr>\n",
              "      <th>r</th>\n",
              "      <td>3284</td>\n",
              "    </tr>\n",
              "    <tr>\n",
              "      <th>m</th>\n",
              "      <td>3281</td>\n",
              "    </tr>\n",
              "    <tr>\n",
              "      <th>n</th>\n",
              "      <td>3281</td>\n",
              "    </tr>\n",
              "    <tr>\n",
              "      <th>a</th>\n",
              "      <td>3281</td>\n",
              "    </tr>\n",
              "    <tr>\n",
              "      <th>q</th>\n",
              "      <td>3279</td>\n",
              "    </tr>\n",
              "    <tr>\n",
              "      <th>u</th>\n",
              "      <td>3278</td>\n",
              "    </tr>\n",
              "    <tr>\n",
              "      <th>i</th>\n",
              "      <td>3277</td>\n",
              "    </tr>\n",
              "    <tr>\n",
              "      <th>d</th>\n",
              "      <td>3277</td>\n",
              "    </tr>\n",
              "    <tr>\n",
              "      <th>t</th>\n",
              "      <td>3276</td>\n",
              "    </tr>\n",
              "    <tr>\n",
              "      <th>y</th>\n",
              "      <td>3276</td>\n",
              "    </tr>\n",
              "    <tr>\n",
              "      <th>x</th>\n",
              "      <td>3276</td>\n",
              "    </tr>\n",
              "    <tr>\n",
              "      <th>l</th>\n",
              "      <td>3276</td>\n",
              "    </tr>\n",
              "    <tr>\n",
              "      <th>k</th>\n",
              "      <td>3276</td>\n",
              "    </tr>\n",
              "    <tr>\n",
              "      <th>s</th>\n",
              "      <td>3276</td>\n",
              "    </tr>\n",
              "    <tr>\n",
              "      <th>h</th>\n",
              "      <td>3275</td>\n",
              "    </tr>\n",
              "    <tr>\n",
              "      <th>p</th>\n",
              "      <td>3275</td>\n",
              "    </tr>\n",
              "    <tr>\n",
              "      <th>g</th>\n",
              "      <td>3275</td>\n",
              "    </tr>\n",
              "    <tr>\n",
              "      <th>w</th>\n",
              "      <td>3275</td>\n",
              "    </tr>\n",
              "    <tr>\n",
              "      <th>z</th>\n",
              "      <td>3275</td>\n",
              "    </tr>\n",
              "    <tr>\n",
              "      <th>o</th>\n",
              "      <td>3275</td>\n",
              "    </tr>\n",
              "    <tr>\n",
              "      <th>f</th>\n",
              "      <td>3275</td>\n",
              "    </tr>\n",
              "    <tr>\n",
              "      <th>b</th>\n",
              "      <td>3274</td>\n",
              "    </tr>\n",
              "    <tr>\n",
              "      <th>v</th>\n",
              "      <td>3274</td>\n",
              "    </tr>\n",
              "    <tr>\n",
              "      <th>c</th>\n",
              "      <td>3274</td>\n",
              "    </tr>\n",
              "    <tr>\n",
              "      <th>j</th>\n",
              "      <td>3274</td>\n",
              "    </tr>\n",
              "  </tbody>\n",
              "</table>\n",
              "</div><br><label><b>dtype:</b> int64</label>"
            ]
          },
          "metadata": {},
          "execution_count": 20
        }
      ]
    },
    {
      "cell_type": "markdown",
      "source": [
        "### 3.1 Splitting the dataframe\n",
        "\n",
        "- The dataframe is splitted to get 70% of the dataset for `training` & 30% for `testing`.\n",
        "- The training set is splitted into `training` & `vaidation` to enhance model tranining."
      ],
      "metadata": {
        "id": "0m5rSNYGu9yO"
      }
    },
    {
      "cell_type": "code",
      "source": [
        "# splitting for training & testing (70, 30 respectively)\n",
        "X, y = df['image'], df['label']\n",
        "X_train, X_test, y_train, y_test = train_test_split(X, y, test_size = 0.30, random_state = 41)\n",
        "training_df = pd.concat((X_train, y_train), axis=1)\n",
        "testing_df = pd.concat((X_test, y_test), axis=1)"
      ],
      "metadata": {
        "id": "HQBo0x3HvC0d"
      },
      "execution_count": 21,
      "outputs": []
    },
    {
      "cell_type": "code",
      "source": [
        "training_df.head()"
      ],
      "metadata": {
        "colab": {
          "base_uri": "https://localhost:8080/",
          "height": 206
        },
        "id": "1iP3jRiEv6Vq",
        "outputId": "df1936c3-2a26-4839-e9ac-11e1ad5b73d0"
      },
      "execution_count": 22,
      "outputs": [
        {
          "output_type": "execute_result",
          "data": {
            "text/plain": [
              "                                               image label\n",
              "64309  /content/ocr-dataset/dataset/f_L/F_L_2807.png     f\n",
              "4822    /content/ocr-dataset/dataset/v_L/V_L_263.png     v\n",
              "41804  /content/ocr-dataset/dataset/r_L/R_L_1081.png     r\n",
              "67645  /content/ocr-dataset/dataset/s_L/S_L_1239.png     s\n",
              "84614  /content/ocr-dataset/dataset/y_L/Y_L_2874.png     y"
            ],
            "text/html": [
              "\n",
              "  <div id=\"df-2e8492de-28ff-4bfb-b6f9-80eec7b5b312\" class=\"colab-df-container\">\n",
              "    <div>\n",
              "<style scoped>\n",
              "    .dataframe tbody tr th:only-of-type {\n",
              "        vertical-align: middle;\n",
              "    }\n",
              "\n",
              "    .dataframe tbody tr th {\n",
              "        vertical-align: top;\n",
              "    }\n",
              "\n",
              "    .dataframe thead th {\n",
              "        text-align: right;\n",
              "    }\n",
              "</style>\n",
              "<table border=\"1\" class=\"dataframe\">\n",
              "  <thead>\n",
              "    <tr style=\"text-align: right;\">\n",
              "      <th></th>\n",
              "      <th>image</th>\n",
              "      <th>label</th>\n",
              "    </tr>\n",
              "  </thead>\n",
              "  <tbody>\n",
              "    <tr>\n",
              "      <th>64309</th>\n",
              "      <td>/content/ocr-dataset/dataset/f_L/F_L_2807.png</td>\n",
              "      <td>f</td>\n",
              "    </tr>\n",
              "    <tr>\n",
              "      <th>4822</th>\n",
              "      <td>/content/ocr-dataset/dataset/v_L/V_L_263.png</td>\n",
              "      <td>v</td>\n",
              "    </tr>\n",
              "    <tr>\n",
              "      <th>41804</th>\n",
              "      <td>/content/ocr-dataset/dataset/r_L/R_L_1081.png</td>\n",
              "      <td>r</td>\n",
              "    </tr>\n",
              "    <tr>\n",
              "      <th>67645</th>\n",
              "      <td>/content/ocr-dataset/dataset/s_L/S_L_1239.png</td>\n",
              "      <td>s</td>\n",
              "    </tr>\n",
              "    <tr>\n",
              "      <th>84614</th>\n",
              "      <td>/content/ocr-dataset/dataset/y_L/Y_L_2874.png</td>\n",
              "      <td>y</td>\n",
              "    </tr>\n",
              "  </tbody>\n",
              "</table>\n",
              "</div>\n",
              "    <div class=\"colab-df-buttons\">\n",
              "\n",
              "  <div class=\"colab-df-container\">\n",
              "    <button class=\"colab-df-convert\" onclick=\"convertToInteractive('df-2e8492de-28ff-4bfb-b6f9-80eec7b5b312')\"\n",
              "            title=\"Convert this dataframe to an interactive table.\"\n",
              "            style=\"display:none;\">\n",
              "\n",
              "  <svg xmlns=\"http://www.w3.org/2000/svg\" height=\"24px\" viewBox=\"0 -960 960 960\">\n",
              "    <path d=\"M120-120v-720h720v720H120Zm60-500h600v-160H180v160Zm220 220h160v-160H400v160Zm0 220h160v-160H400v160ZM180-400h160v-160H180v160Zm440 0h160v-160H620v160ZM180-180h160v-160H180v160Zm440 0h160v-160H620v160Z\"/>\n",
              "  </svg>\n",
              "    </button>\n",
              "\n",
              "  <style>\n",
              "    .colab-df-container {\n",
              "      display:flex;\n",
              "      gap: 12px;\n",
              "    }\n",
              "\n",
              "    .colab-df-convert {\n",
              "      background-color: #E8F0FE;\n",
              "      border: none;\n",
              "      border-radius: 50%;\n",
              "      cursor: pointer;\n",
              "      display: none;\n",
              "      fill: #1967D2;\n",
              "      height: 32px;\n",
              "      padding: 0 0 0 0;\n",
              "      width: 32px;\n",
              "    }\n",
              "\n",
              "    .colab-df-convert:hover {\n",
              "      background-color: #E2EBFA;\n",
              "      box-shadow: 0px 1px 2px rgba(60, 64, 67, 0.3), 0px 1px 3px 1px rgba(60, 64, 67, 0.15);\n",
              "      fill: #174EA6;\n",
              "    }\n",
              "\n",
              "    .colab-df-buttons div {\n",
              "      margin-bottom: 4px;\n",
              "    }\n",
              "\n",
              "    [theme=dark] .colab-df-convert {\n",
              "      background-color: #3B4455;\n",
              "      fill: #D2E3FC;\n",
              "    }\n",
              "\n",
              "    [theme=dark] .colab-df-convert:hover {\n",
              "      background-color: #434B5C;\n",
              "      box-shadow: 0px 1px 3px 1px rgba(0, 0, 0, 0.15);\n",
              "      filter: drop-shadow(0px 1px 2px rgba(0, 0, 0, 0.3));\n",
              "      fill: #FFFFFF;\n",
              "    }\n",
              "  </style>\n",
              "\n",
              "    <script>\n",
              "      const buttonEl =\n",
              "        document.querySelector('#df-2e8492de-28ff-4bfb-b6f9-80eec7b5b312 button.colab-df-convert');\n",
              "      buttonEl.style.display =\n",
              "        google.colab.kernel.accessAllowed ? 'block' : 'none';\n",
              "\n",
              "      async function convertToInteractive(key) {\n",
              "        const element = document.querySelector('#df-2e8492de-28ff-4bfb-b6f9-80eec7b5b312');\n",
              "        const dataTable =\n",
              "          await google.colab.kernel.invokeFunction('convertToInteractive',\n",
              "                                                    [key], {});\n",
              "        if (!dataTable) return;\n",
              "\n",
              "        const docLinkHtml = 'Like what you see? Visit the ' +\n",
              "          '<a target=\"_blank\" href=https://colab.research.google.com/notebooks/data_table.ipynb>data table notebook</a>'\n",
              "          + ' to learn more about interactive tables.';\n",
              "        element.innerHTML = '';\n",
              "        dataTable['output_type'] = 'display_data';\n",
              "        await google.colab.output.renderOutput(dataTable, element);\n",
              "        const docLink = document.createElement('div');\n",
              "        docLink.innerHTML = docLinkHtml;\n",
              "        element.appendChild(docLink);\n",
              "      }\n",
              "    </script>\n",
              "  </div>\n",
              "\n",
              "\n",
              "<div id=\"df-5fba3eeb-0b2d-4aea-bdf4-63cd0e7da895\">\n",
              "  <button class=\"colab-df-quickchart\" onclick=\"quickchart('df-5fba3eeb-0b2d-4aea-bdf4-63cd0e7da895')\"\n",
              "            title=\"Suggest charts\"\n",
              "            style=\"display:none;\">\n",
              "\n",
              "<svg xmlns=\"http://www.w3.org/2000/svg\" height=\"24px\"viewBox=\"0 0 24 24\"\n",
              "     width=\"24px\">\n",
              "    <g>\n",
              "        <path d=\"M19 3H5c-1.1 0-2 .9-2 2v14c0 1.1.9 2 2 2h14c1.1 0 2-.9 2-2V5c0-1.1-.9-2-2-2zM9 17H7v-7h2v7zm4 0h-2V7h2v10zm4 0h-2v-4h2v4z\"/>\n",
              "    </g>\n",
              "</svg>\n",
              "  </button>\n",
              "\n",
              "<style>\n",
              "  .colab-df-quickchart {\n",
              "      --bg-color: #E8F0FE;\n",
              "      --fill-color: #1967D2;\n",
              "      --hover-bg-color: #E2EBFA;\n",
              "      --hover-fill-color: #174EA6;\n",
              "      --disabled-fill-color: #AAA;\n",
              "      --disabled-bg-color: #DDD;\n",
              "  }\n",
              "\n",
              "  [theme=dark] .colab-df-quickchart {\n",
              "      --bg-color: #3B4455;\n",
              "      --fill-color: #D2E3FC;\n",
              "      --hover-bg-color: #434B5C;\n",
              "      --hover-fill-color: #FFFFFF;\n",
              "      --disabled-bg-color: #3B4455;\n",
              "      --disabled-fill-color: #666;\n",
              "  }\n",
              "\n",
              "  .colab-df-quickchart {\n",
              "    background-color: var(--bg-color);\n",
              "    border: none;\n",
              "    border-radius: 50%;\n",
              "    cursor: pointer;\n",
              "    display: none;\n",
              "    fill: var(--fill-color);\n",
              "    height: 32px;\n",
              "    padding: 0;\n",
              "    width: 32px;\n",
              "  }\n",
              "\n",
              "  .colab-df-quickchart:hover {\n",
              "    background-color: var(--hover-bg-color);\n",
              "    box-shadow: 0 1px 2px rgba(60, 64, 67, 0.3), 0 1px 3px 1px rgba(60, 64, 67, 0.15);\n",
              "    fill: var(--button-hover-fill-color);\n",
              "  }\n",
              "\n",
              "  .colab-df-quickchart-complete:disabled,\n",
              "  .colab-df-quickchart-complete:disabled:hover {\n",
              "    background-color: var(--disabled-bg-color);\n",
              "    fill: var(--disabled-fill-color);\n",
              "    box-shadow: none;\n",
              "  }\n",
              "\n",
              "  .colab-df-spinner {\n",
              "    border: 2px solid var(--fill-color);\n",
              "    border-color: transparent;\n",
              "    border-bottom-color: var(--fill-color);\n",
              "    animation:\n",
              "      spin 1s steps(1) infinite;\n",
              "  }\n",
              "\n",
              "  @keyframes spin {\n",
              "    0% {\n",
              "      border-color: transparent;\n",
              "      border-bottom-color: var(--fill-color);\n",
              "      border-left-color: var(--fill-color);\n",
              "    }\n",
              "    20% {\n",
              "      border-color: transparent;\n",
              "      border-left-color: var(--fill-color);\n",
              "      border-top-color: var(--fill-color);\n",
              "    }\n",
              "    30% {\n",
              "      border-color: transparent;\n",
              "      border-left-color: var(--fill-color);\n",
              "      border-top-color: var(--fill-color);\n",
              "      border-right-color: var(--fill-color);\n",
              "    }\n",
              "    40% {\n",
              "      border-color: transparent;\n",
              "      border-right-color: var(--fill-color);\n",
              "      border-top-color: var(--fill-color);\n",
              "    }\n",
              "    60% {\n",
              "      border-color: transparent;\n",
              "      border-right-color: var(--fill-color);\n",
              "    }\n",
              "    80% {\n",
              "      border-color: transparent;\n",
              "      border-right-color: var(--fill-color);\n",
              "      border-bottom-color: var(--fill-color);\n",
              "    }\n",
              "    90% {\n",
              "      border-color: transparent;\n",
              "      border-bottom-color: var(--fill-color);\n",
              "    }\n",
              "  }\n",
              "</style>\n",
              "\n",
              "  <script>\n",
              "    async function quickchart(key) {\n",
              "      const quickchartButtonEl =\n",
              "        document.querySelector('#' + key + ' button');\n",
              "      quickchartButtonEl.disabled = true;  // To prevent multiple clicks.\n",
              "      quickchartButtonEl.classList.add('colab-df-spinner');\n",
              "      try {\n",
              "        const charts = await google.colab.kernel.invokeFunction(\n",
              "            'suggestCharts', [key], {});\n",
              "      } catch (error) {\n",
              "        console.error('Error during call to suggestCharts:', error);\n",
              "      }\n",
              "      quickchartButtonEl.classList.remove('colab-df-spinner');\n",
              "      quickchartButtonEl.classList.add('colab-df-quickchart-complete');\n",
              "    }\n",
              "    (() => {\n",
              "      let quickchartButtonEl =\n",
              "        document.querySelector('#df-5fba3eeb-0b2d-4aea-bdf4-63cd0e7da895 button');\n",
              "      quickchartButtonEl.style.display =\n",
              "        google.colab.kernel.accessAllowed ? 'block' : 'none';\n",
              "    })();\n",
              "  </script>\n",
              "</div>\n",
              "\n",
              "    </div>\n",
              "  </div>\n"
            ],
            "application/vnd.google.colaboratory.intrinsic+json": {
              "type": "dataframe",
              "variable_name": "training_df",
              "summary": "{\n  \"name\": \"training_df\",\n  \"rows\": 59639,\n  \"fields\": [\n    {\n      \"column\": \"image\",\n      \"properties\": {\n        \"dtype\": \"string\",\n        \"num_unique_values\": 59639,\n        \"samples\": [\n          \"/content/ocr-dataset/dataset/x_L/X_L_524.png\",\n          \"/content/ocr-dataset/dataset/i_L/I_L_575.png\",\n          \"/content/ocr-dataset/dataset/h_L/H_L_797.png\"\n        ],\n        \"semantic_type\": \"\",\n        \"description\": \"\"\n      }\n    },\n    {\n      \"column\": \"label\",\n      \"properties\": {\n        \"dtype\": \"category\",\n        \"num_unique_values\": 26,\n        \"samples\": [\n          \"h\",\n          \"g\",\n          \"f\"\n        ],\n        \"semantic_type\": \"\",\n        \"description\": \"\"\n      }\n    }\n  ]\n}"
            }
          },
          "metadata": {},
          "execution_count": 22
        }
      ]
    },
    {
      "cell_type": "code",
      "source": [
        "# Splitting for training & validation (75, 25 respectively) -> the training set size = 52.5%\n",
        "X, y = training_df['image'], training_df['label']\n",
        "X_train, X_valid, y_train, y_valid = train_test_split(X, y, test_size = 0.25, random_state = 41)\n",
        "training_df = pd.concat((X_train, y_train), axis=1)\n",
        "validation_df = pd.concat((X_valid, y_valid), axis=1)"
      ],
      "metadata": {
        "id": "-f-A9Vgnv8RS"
      },
      "execution_count": 24,
      "outputs": []
    },
    {
      "cell_type": "markdown",
      "source": [
        "#### 3.2 Creating Generators\n",
        "- The `ImageDataGenerators` is used for data augmentation, the augmentation is required since the `OCR` can work with different brightness which is not included in the dataset.\n",
        "- Also it enhances the RAM usage."
      ],
      "metadata": {
        "id": "rV8Bje-8BOFw"
      }
    },
    {
      "cell_type": "code",
      "source": [
        "# Creating generators\n",
        "gen = ImageDataGenerator(dtype=np.int32, brightness_range=[0.0,1.0], fill_mode='nearest')\n",
        "gen2 = ImageDataGenerator(dtype=np.int32, fill_mode='nearest')\n",
        "train_gen = gen.flow_from_dataframe(training_df, x_col='image',y_col='label', batch_size=BATCH_SIZE,\n",
        "                                   target_size=IMG_SHAPE)\n",
        "valid_gen = gen2.flow_from_dataframe(validation_df, x_col='image', y_col='label', batch_size=BATCH_SIZE,\n",
        "                                        target_size=IMG_SHAPE, shuffle=False)\n",
        "test_gen = gen2.flow_from_dataframe(testing_df, x_col='image', y_col='label', batch_size=BATCH_SIZE,\n",
        "                                       target_size=IMG_SHAPE, shuffle=False)"
      ],
      "metadata": {
        "colab": {
          "base_uri": "https://localhost:8080/"
        },
        "id": "2OFH7ZXgBPZ5",
        "outputId": "0a8e2a88-918c-439e-98e1-0e405a264a1c"
      },
      "execution_count": 25,
      "outputs": [
        {
          "output_type": "stream",
          "name": "stdout",
          "text": [
            "Found 44729 validated image filenames belonging to 26 classes.\n",
            "Found 14910 validated image filenames belonging to 26 classes.\n",
            "Found 25560 validated image filenames belonging to 26 classes.\n"
          ]
        }
      ]
    },
    {
      "cell_type": "code",
      "source": [
        "# Making a mapping of the classes & the inverse for later processings\n",
        "mapping = train_gen.class_indices\n",
        "mapping_inverse = dict(map(lambda x: tuple(reversed(x)), mapping.items()))"
      ],
      "metadata": {
        "id": "b_gKjWlSBQJ5"
      },
      "execution_count": 26,
      "outputs": []
    },
    {
      "cell_type": "code",
      "source": [
        "# Reading a sample from the dataset.\n",
        "BATCH_NUM = 10\n",
        "IMG_NUM = 2      # from 0 to 31\n",
        "show_image(train_gen[BATCH_NUM][0][IMG_NUM],mapping_inverse[train_gen[BATCH_NUM][1][IMG_NUM].argmax()])\n",
        "print('The shape of the image:',train_gen[BATCH_NUM][0][IMG_NUM].shape)"
      ],
      "metadata": {
        "colab": {
          "base_uri": "https://localhost:8080/",
          "height": 445
        },
        "id": "WAxq06V0Cigb",
        "outputId": "87b07b74-d800-4680-a1c1-e6c28a9bf393"
      },
      "execution_count": 27,
      "outputs": [
        {
          "output_type": "display_data",
          "data": {
            "text/plain": [
              "<Figure size 640x480 with 1 Axes>"
            ],
            "image/png": "[encoded data removed]"
          },
          "metadata": {}
        },
        {
          "output_type": "stream",
          "name": "stdout",
          "text": [
            "The shape of the image: (32, 32, 3)\n"
          ]
        }
      ]
    },
    {
      "cell_type": "code",
      "source": [
        "# Reading another sample from the dataset\n",
        "BATCH_NUM = 65\n",
        "IMG_NUM = 30      # from 0 to 31\n",
        "show_image(train_gen[BATCH_NUM][0][IMG_NUM],mapping_inverse[train_gen[BATCH_NUM][1][IMG_NUM].argmax()])\n",
        "print('The shape of the image:',train_gen[BATCH_NUM][0][IMG_NUM].shape)"
      ],
      "metadata": {
        "colab": {
          "base_uri": "https://localhost:8080/",
          "height": 445
        },
        "id": "AqPMmvcSC8te",
        "outputId": "b2c2d677-d842-4e7d-8d44-d73c312739fe"
      },
      "execution_count": 28,
      "outputs": [
        {
          "output_type": "display_data",
          "data": {
            "text/plain": [
              "<Figure size 640x480 with 1 Axes>"
            ],
            "image/png": "[encoded data removed]"
          },
          "metadata": {}
        },
        {
          "output_type": "stream",
          "name": "stdout",
          "text": [
            "The shape of the image: (32, 32, 3)\n"
          ]
        }
      ]
    },
    {
      "cell_type": "markdown",
      "source": [
        "###4. Modelling\n",
        "Our target is to build a `custom CNN model` to train on our targeted images for the `OCR` application. In advance, I'll try to use 4 pre-trained models as part of `Transfer Learning` and to enhance the performance of the application.\n",
        "\n",
        "**The targeted pre-trained models are the following:**\n",
        "- *EfficientNetB7*\n",
        "- *MobileNetV2*\n",
        "- *VGG19*\n",
        "- *DenseNet121*\n",
        "\n",
        "***The fine-tuning strategy:*** Using a small value of `LR` of the optimizer `Adam` will make an efficient use of pre-trained models on the dataset without **FREEZING** the input layers in which better performance is required in the case."
      ],
      "metadata": {
        "id": "O-lkolCkDRfj"
      }
    },
    {
      "cell_type": "markdown",
      "source": [
        "#### 4.1 Custom CNN"
      ],
      "metadata": {
        "id": "23pVKLOtDSZe"
      }
    },
    {
      "cell_type": "code",
      "source": [
        "# Custom CNN\n",
        "CNN_model = Sequential()\n",
        "CNN_model.add(Input(shape=IMG_SIZE, batch_size=BATCH_SIZE, name='Input'))\n",
        "CNN_model.add(Conv2D(3, (3,3), strides=1, activation='relu', padding='same'))\n",
        "CNN_model.add(Conv2D(128, (3,3), activation='relu'))\n",
        "CNN_model.add(MaxPool2D((3,3)))\n",
        "CNN_model.add(Conv2D(256, (3,3), activation='relu'))\n",
        "CNN_model.add(Dropout(0.2))\n",
        "CNN_model.add(Conv2D(256, (3,3), strides=2, activation='relu', padding='same'))\n",
        "CNN_model.add(MaxPool2D((2,2)))\n",
        "CNN_model.add(Conv2D(512, (3,3), activation='relu', padding='same'))\n",
        "CNN_model.add(Dropout(0.2))\n",
        "CNN_model.add(Conv2D(1024, (2,2), activation='relu', padding='same'))\n",
        "CNN_model.add(MaxPool2D(2,2))\n",
        "CNN_model.add(Flatten())\n",
        "CNN_model.add(Dense(1024, activation='selu'))\n",
        "CNN_model.add(Dense(len(mapping), activation='softmax'))"
      ],
      "metadata": {
        "id": "bZ-5f_kNDTPB"
      },
      "execution_count": 29,
      "outputs": []
    },
    {
      "cell_type": "code",
      "source": [
        "CNN_model.summary()"
      ],
      "metadata": {
        "colab": {
          "base_uri": "https://localhost:8080/"
        },
        "id": "fugCj0WaDTmU",
        "outputId": "53a360bf-54db-43cf-994b-5c38c15fd5f1"
      },
      "execution_count": 30,
      "outputs": [
        {
          "output_type": "stream",
          "name": "stdout",
          "text": [
            "Model: \"sequential\"\n",
            "_________________________________________________________________\n",
            " Layer (type)                Output Shape              Param #   \n",
            "=================================================================\n",
            " conv2d (Conv2D)             (32, 32, 32, 3)           84        \n",
            "                                                                 \n",
            " conv2d_1 (Conv2D)           (32, 30, 30, 128)         3584      \n",
            "                                                                 \n",
            " max_pooling2d (MaxPooling2  (32, 10, 10, 128)         0         \n",
            " D)                                                              \n",
            "                                                                 \n",
            " conv2d_2 (Conv2D)           (32, 8, 8, 256)           295168    \n",
            "                                                                 \n",
            " dropout (Dropout)           (32, 8, 8, 256)           0         \n",
            "                                                                 \n",
            " conv2d_3 (Conv2D)           (32, 4, 4, 256)           590080    \n",
            "                                                                 \n",
            " max_pooling2d_1 (MaxPoolin  (32, 2, 2, 256)           0         \n",
            " g2D)                                                            \n",
            "                                                                 \n",
            " conv2d_4 (Conv2D)           (32, 2, 2, 512)           1180160   \n",
            "                                                                 \n",
            " dropout_1 (Dropout)         (32, 2, 2, 512)           0         \n",
            "                                                                 \n",
            " conv2d_5 (Conv2D)           (32, 2, 2, 1024)          2098176   \n",
            "                                                                 \n",
            " max_pooling2d_2 (MaxPoolin  (32, 1, 1, 1024)          0         \n",
            " g2D)                                                            \n",
            "                                                                 \n",
            " flatten (Flatten)           (32, 1024)                0         \n",
            "                                                                 \n",
            " dense (Dense)               (32, 1024)                1049600   \n",
            "                                                                 \n",
            " dense_1 (Dense)             (32, 26)                  26650     \n",
            "                                                                 \n",
            "=================================================================\n",
            "Total params: 5243502 (20.00 MB)\n",
            "Trainable params: 5243502 (20.00 MB)\n",
            "Non-trainable params: 0 (0.00 Byte)\n",
            "_________________________________________________________________\n"
          ]
        }
      ]
    },
    {
      "cell_type": "code",
      "source": [
        "#Default parameters of adam will be used for the custom CNN\n",
        "CNN_model.compile(optimizer=Adam(), loss=loss, metrics=['accuracy'])"
      ],
      "metadata": {
        "id": "5CBmjQNADTz-"
      },
      "execution_count": 31,
      "outputs": []
    },
    {
      "cell_type": "code",
      "source": [
        "# different num of epochs will be given for better convergence for the custom CNN\n",
        "history = CNN_model.fit(train_gen, epochs=20, validation_data=valid_gen, callbacks=clbck(\"CustomCnn\"))"
      ],
      "metadata": {
        "colab": {
          "base_uri": "https://localhost:8080/"
        },
        "id": "3M2N671wFzvs",
        "outputId": "85afee2b-bd7d-44bd-fd1c-04cb8b2c82eb"
      },
      "execution_count": 32,
      "outputs": [
        {
          "output_type": "stream",
          "name": "stdout",
          "text": [
            "Epoch 1/20\n",
            "1397/1398 [============================>.] - ETA: 0s - loss: 1.2546 - accuracy: 0.6424\n",
            "Epoch 1: val_loss improved from inf to 0.42510, saving model to CustomCnn_model.keras\n",
            "1398/1398 [==============================] - 71s 50ms/step - loss: 1.2540 - accuracy: 0.6426 - val_loss: 0.4251 - val_accuracy: 0.8897 - lr: 0.0010\n",
            "Epoch 2/20\n",
            "1397/1398 [============================>.] - ETA: 0s - loss: 0.4467 - accuracy: 0.8765\n",
            "Epoch 2: val_loss improved from 0.42510 to 0.35951, saving model to CustomCnn_model.keras\n",
            "1398/1398 [==============================] - 69s 49ms/step - loss: 0.4467 - accuracy: 0.8765 - val_loss: 0.3595 - val_accuracy: 0.9009 - lr: 0.0010\n",
            "Epoch 3/20\n",
            "1398/1398 [==============================] - ETA: 0s - loss: 0.3697 - accuracy: 0.8984\n",
            "Epoch 3: val_loss did not improve from 0.35951\n",
            "1398/1398 [==============================] - 69s 49ms/step - loss: 0.3697 - accuracy: 0.8984 - val_loss: 0.3600 - val_accuracy: 0.9142 - lr: 0.0010\n",
            "Epoch 4/20\n",
            "1398/1398 [==============================] - ETA: 0s - loss: 0.3339 - accuracy: 0.9098\n",
            "Epoch 4: val_loss improved from 0.35951 to 0.31021, saving model to CustomCnn_model.keras\n",
            "1398/1398 [==============================] - 69s 50ms/step - loss: 0.3339 - accuracy: 0.9098 - val_loss: 0.3102 - val_accuracy: 0.9250 - lr: 0.0010\n",
            "Epoch 5/20\n",
            "1397/1398 [============================>.] - ETA: 0s - loss: 0.3318 - accuracy: 0.9122\n",
            "Epoch 5: val_loss improved from 0.31021 to 0.26486, saving model to CustomCnn_model.keras\n",
            "1398/1398 [==============================] - 69s 49ms/step - loss: 0.3316 - accuracy: 0.9122 - val_loss: 0.2649 - val_accuracy: 0.9351 - lr: 0.0010\n",
            "Epoch 6/20\n",
            "1398/1398 [==============================] - ETA: 0s - loss: 0.2807 - accuracy: 0.9244\n",
            "Epoch 6: val_loss did not improve from 0.26486\n",
            "1398/1398 [==============================] - 69s 49ms/step - loss: 0.2807 - accuracy: 0.9244 - val_loss: 0.2816 - val_accuracy: 0.9311 - lr: 0.0010\n",
            "Epoch 7/20\n",
            "1398/1398 [==============================] - ETA: 0s - loss: 0.2907 - accuracy: 0.9227\n",
            "Epoch 7: val_loss did not improve from 0.26486\n",
            "1398/1398 [==============================] - 69s 49ms/step - loss: 0.2907 - accuracy: 0.9227 - val_loss: 0.3549 - val_accuracy: 0.9228 - lr: 0.0010\n",
            "Epoch 8/20\n",
            "1397/1398 [============================>.] - ETA: 0s - loss: 0.2956 - accuracy: 0.9217\n",
            "Epoch 8: val_loss did not improve from 0.26486\n",
            "1398/1398 [==============================] - 69s 49ms/step - loss: 0.2961 - accuracy: 0.9217 - val_loss: 0.9152 - val_accuracy: 0.8522 - lr: 0.0010\n",
            "Epoch 9/20\n",
            "1397/1398 [============================>.] - ETA: 0s - loss: 0.3444 - accuracy: 0.9152\n",
            "Epoch 9: val_loss did not improve from 0.26486\n",
            "1398/1398 [==============================] - 69s 49ms/step - loss: 0.3443 - accuracy: 0.9152 - val_loss: 0.2684 - val_accuracy: 0.9388 - lr: 0.0010\n",
            "Epoch 10/20\n",
            "1398/1398 [==============================] - ETA: 0s - loss: 0.2571 - accuracy: 0.9335\n",
            "Epoch 10: val_loss did not improve from 0.26486\n",
            "1398/1398 [==============================] - 69s 49ms/step - loss: 0.2571 - accuracy: 0.9335 - val_loss: 0.3044 - val_accuracy: 0.9330 - lr: 0.0010\n",
            "Epoch 11/20\n",
            "1398/1398 [==============================] - ETA: 0s - loss: 0.1683 - accuracy: 0.9519\n",
            "Epoch 11: val_loss improved from 0.26486 to 0.25654, saving model to CustomCnn_model.keras\n",
            "1398/1398 [==============================] - 69s 49ms/step - loss: 0.1683 - accuracy: 0.9519 - val_loss: 0.2565 - val_accuracy: 0.9461 - lr: 5.0000e-04\n",
            "Epoch 12/20\n",
            "1398/1398 [==============================] - ETA: 0s - loss: 0.1490 - accuracy: 0.9568\n",
            "Epoch 12: val_loss improved from 0.25654 to 0.23987, saving model to CustomCnn_model.keras\n",
            "1398/1398 [==============================] - 69s 50ms/step - loss: 0.1490 - accuracy: 0.9568 - val_loss: 0.2399 - val_accuracy: 0.9512 - lr: 5.0000e-04\n",
            "Epoch 13/20\n",
            "1398/1398 [==============================] - ETA: 0s - loss: 0.1393 - accuracy: 0.9605\n",
            "Epoch 13: val_loss improved from 0.23987 to 0.23300, saving model to CustomCnn_model.keras\n",
            "1398/1398 [==============================] - 69s 50ms/step - loss: 0.1393 - accuracy: 0.9605 - val_loss: 0.2330 - val_accuracy: 0.9559 - lr: 5.0000e-04\n",
            "Epoch 14/20\n",
            "1397/1398 [============================>.] - ETA: 0s - loss: 0.1316 - accuracy: 0.9625\n",
            "Epoch 14: val_loss did not improve from 0.23300\n",
            "1398/1398 [==============================] - 69s 50ms/step - loss: 0.1317 - accuracy: 0.9625 - val_loss: 0.2496 - val_accuracy: 0.9527 - lr: 5.0000e-04\n",
            "Epoch 15/20\n",
            "1397/1398 [============================>.] - ETA: 0s - loss: 0.1329 - accuracy: 0.9629\n",
            "Epoch 15: val_loss did not improve from 0.23300\n",
            "1398/1398 [==============================] - 69s 49ms/step - loss: 0.1328 - accuracy: 0.9629 - val_loss: 0.2546 - val_accuracy: 0.9512 - lr: 5.0000e-04\n",
            "Epoch 16/20\n",
            "1398/1398 [==============================] - ETA: 0s - loss: 0.1212 - accuracy: 0.9654\n",
            "Epoch 16: val_loss did not improve from 0.23300\n",
            "1398/1398 [==============================] - 69s 50ms/step - loss: 0.1212 - accuracy: 0.9654 - val_loss: 0.2461 - val_accuracy: 0.9514 - lr: 5.0000e-04\n",
            "Epoch 17/20\n",
            "1397/1398 [============================>.] - ETA: 0s - loss: 0.1234 - accuracy: 0.9665\n",
            "Epoch 17: val_loss did not improve from 0.23300\n",
            "1398/1398 [==============================] - 69s 49ms/step - loss: 0.1233 - accuracy: 0.9665 - val_loss: 0.2662 - val_accuracy: 0.9513 - lr: 5.0000e-04\n",
            "Epoch 18/20\n",
            "1398/1398 [==============================] - ETA: 0s - loss: 0.0826 - accuracy: 0.9755\n",
            "Epoch 18: val_loss did not improve from 0.23300\n",
            "1398/1398 [==============================] - 69s 49ms/step - loss: 0.0826 - accuracy: 0.9755 - val_loss: 0.2684 - val_accuracy: 0.9568 - lr: 2.5000e-04\n",
            "Epoch 19/20\n",
            "1397/1398 [============================>.] - ETA: 0s - loss: 0.0715 - accuracy: 0.9788\n",
            "Epoch 19: val_loss did not improve from 0.23300\n",
            "1398/1398 [==============================] - 69s 49ms/step - loss: 0.0715 - accuracy: 0.9788 - val_loss: 0.2469 - val_accuracy: 0.9594 - lr: 2.5000e-04\n",
            "Epoch 20/20\n",
            "1397/1398 [============================>.] - ETA: 0s - loss: 0.0640 - accuracy: 0.9810\n",
            "Epoch 20: val_loss did not improve from 0.23300\n",
            "1398/1398 [==============================] - 69s 49ms/step - loss: 0.0639 - accuracy: 0.9810 - val_loss: 0.3030 - val_accuracy: 0.9594 - lr: 2.5000e-04\n"
          ]
        }
      ]
    },
    {
      "cell_type": "code",
      "source": [
        "plt.plot(history.history['loss'], label='Training loss')\n",
        "plt.plot(history.history['val_loss'], label='Validation loss')\n",
        "plt.legend()\n",
        "plt.xlabel('Epochs')\n",
        "plt.ylabel('Loss value')\n",
        "plt.title('Custom CNN Tranining VS. Validation performance')\n",
        "plt.show()"
      ],
      "metadata": {
        "colab": {
          "base_uri": "https://localhost:8080/",
          "height": 472
        },
        "id": "ivyzJwAiGBs5",
        "outputId": "6edd2af8-c3e0-4f5d-f0d3-d5e0af1bc5a0"
      },
      "execution_count": 33,
      "outputs": [
        {
          "output_type": "display_data",
          "data": {
            "text/plain": [
              "<Figure size 640x480 with 1 Axes>"
            ],
            "image/png": "[encoded data removed]"
          },
          "metadata": {}
        }
      ]
    },
    {
      "cell_type": "code",
      "source": [
        "\n",
        "# Making a prediction out of the Custom CNN for the testing set for the evaluation\n",
        "prediction = CNN_model.predict(test_gen)\n",
        "pred = list(map(lambda x: mapping_inverse[np.argmax(x)], prediction))\n",
        "y_test = list(map(lambda x: mapping_inverse[x], test_gen.classes))"
      ],
      "metadata": {
        "colab": {
          "base_uri": "https://localhost:8080/"
        },
        "id": "IkX_OPuiS5-6",
        "outputId": "b63d5cb0-bf0d-4b2a-c724-0aa45ac46137"
      },
      "execution_count": 34,
      "outputs": [
        {
          "output_type": "stream",
          "name": "stdout",
          "text": [
            "799/799 [==============================] - 12s 15ms/step\n"
          ]
        }
      ]
    },
    {
      "cell_type": "code",
      "source": [
        "print('\\t\\tThe Custom CNN Evaluation Performance')\n",
        "print(classification_report(y_test, pred))"
      ],
      "metadata": {
        "colab": {
          "base_uri": "https://localhost:8080/"
        },
        "id": "Kg3hmL48TPCf",
        "outputId": "e0007e4d-6178-41e2-da74-4f34d4663ac2"
      },
      "execution_count": 35,
      "outputs": [
        {
          "output_type": "stream",
          "name": "stdout",
          "text": [
            "\t\tThe Custom CNN Evaluation Performance\n",
            "              precision    recall  f1-score   support\n",
            "\n",
            "           a       0.95      0.95      0.95      1004\n",
            "           b       0.95      0.98      0.97       973\n",
            "           c       0.93      0.96      0.95       974\n",
            "           d       0.96      0.97      0.97       992\n",
            "           e       0.95      0.94      0.95      1005\n",
            "           f       0.97      0.95      0.96       996\n",
            "           g       0.95      0.96      0.95       986\n",
            "           h       0.98      0.95      0.96      1009\n",
            "           i       0.97      0.96      0.96      1009\n",
            "           j       0.96      0.97      0.97       979\n",
            "           k       0.95      0.98      0.97       952\n",
            "           l       0.94      0.94      0.94      1044\n",
            "           m       1.00      0.95      0.97       981\n",
            "           n       0.95      0.96      0.95       963\n",
            "           o       0.94      0.97      0.95       930\n",
            "           p       0.96      0.96      0.96       983\n",
            "           q       0.98      0.95      0.97       974\n",
            "           r       0.96      0.95      0.95      1004\n",
            "           s       0.96      0.97      0.97      1001\n",
            "           t       0.94      0.94      0.94      1015\n",
            "           u       0.96      0.96      0.96       981\n",
            "           v       0.97      0.95      0.96       966\n",
            "           w       0.97      0.98      0.97      1004\n",
            "           x       0.98      0.98      0.98       927\n",
            "           y       0.97      0.98      0.97       949\n",
            "           z       0.96      0.98      0.97       959\n",
            "\n",
            "    accuracy                           0.96     25560\n",
            "   macro avg       0.96      0.96      0.96     25560\n",
            "weighted avg       0.96      0.96      0.96     25560\n",
            "\n"
          ]
        }
      ]
    },
    {
      "cell_type": "markdown",
      "source": [
        "#### 4.2 EfficientNetB7"
      ],
      "metadata": {
        "id": "yFmv9D9OTZb0"
      }
    },
    {
      "cell_type": "code",
      "source": [
        "# EfficientNetB7 input layers will not be FREEZED\n",
        "train_layers = EfficientNetB7(include_top=False, input_shape=IMG_SIZE)\n",
        "EffNetB7 = Sequential()\n",
        "EffNetB7.add(train_layers)\n",
        "EffNetB7.add(Flatten())\n",
        "EffNetB7.add(Dense(1024, activation='selu'))\n",
        "EffNetB7.add(Dropout(0.2))\n",
        "EffNetB7.add(Dense(512, activation='selu'))\n",
        "EffNetB7.add(Dense(len(mapping), activation='softmax'))"
      ],
      "metadata": {
        "colab": {
          "base_uri": "https://localhost:8080/"
        },
        "id": "pB8w-_H2Tbuj",
        "outputId": "6eba9be2-9bb6-47f0-a497-1a64ab536755"
      },
      "execution_count": 36,
      "outputs": [
        {
          "output_type": "stream",
          "name": "stdout",
          "text": [
            "Downloading data from https://storage.googleapis.com/keras-applications/efficientnetb7_notop.h5\n",
            "258076736/258076736 [==============================] - 1s 0us/step\n"
          ]
        }
      ]
    },
    {
      "cell_type": "code",
      "source": [
        "EffNetB7.summary()"
      ],
      "metadata": {
        "colab": {
          "base_uri": "https://localhost:8080/"
        },
        "id": "On_7X2HiTcXS",
        "outputId": "f0901a8b-9098-4307-b333-d1fdc6666b0f"
      },
      "execution_count": 37,
      "outputs": [
        {
          "output_type": "stream",
          "name": "stdout",
          "text": [
            "Model: \"sequential_1\"\n",
            "_________________________________________________________________\n",
            " Layer (type)                Output Shape              Param #   \n",
            "=================================================================\n",
            " efficientnetb7 (Functional  (None, 1, 1, 2560)        64097687  \n",
            " )                                                               \n",
            "                                                                 \n",
            " flatten_1 (Flatten)         (None, 2560)              0         \n",
            "                                                                 \n",
            " dense_2 (Dense)             (None, 1024)              2622464   \n",
            "                                                                 \n",
            " dropout_2 (Dropout)         (None, 1024)              0         \n",
            "                                                                 \n",
            " dense_3 (Dense)             (None, 512)               524800    \n",
            "                                                                 \n",
            " dense_4 (Dense)             (None, 26)                13338     \n",
            "                                                                 \n",
            "=================================================================\n",
            "Total params: 67258289 (256.57 MB)\n",
            "Trainable params: 66947562 (255.38 MB)\n",
            "Non-trainable params: 310727 (1.19 MB)\n",
            "_________________________________________________________________\n"
          ]
        }
      ]
    },
    {
      "cell_type": "code",
      "source": [
        "# The pre-defined optimizer will be used with too small learning rate\n",
        "EffNetB7.compile(optimizer=opt, loss=loss, metrics=['accuracy'])"
      ],
      "metadata": {
        "id": "6MRa2gLYTdc-"
      },
      "execution_count": 38,
      "outputs": []
    },
    {
      "cell_type": "code",
      "source": [
        "history2 = EffNetB7.fit(train_gen, epochs=EPOCHS, validation_data=valid_gen, callbacks=clbck(\"EfficientNetB7\"))"
      ],
      "metadata": {
        "colab": {
          "base_uri": "https://localhost:8080/"
        },
        "id": "-F-7jaYkUTp9",
        "outputId": "9131d019-8663-48b5-a6aa-a4b94dc368a0"
      },
      "execution_count": null,
      "outputs": [
        {
          "output_type": "stream",
          "name": "stdout",
          "text": [
            "Epoch 1/10\n",
            "1398/1398 [==============================] - ETA: 0s - loss: 2.6066 - accuracy: 0.2700\n",
            "Epoch 1: val_loss improved from inf to 2.16540, saving model to EfficientNetB7_model.keras\n",
            "1398/1398 [==============================] - 1171s 790ms/step - loss: 2.6066 - accuracy: 0.2700 - val_loss: 2.1654 - val_accuracy: 0.3742 - lr: 1.0000e-05\n",
            "Epoch 2/10\n",
            "1398/1398 [==============================] - ETA: 0s - loss: 1.4174 - accuracy: 0.5965\n",
            "Epoch 2: val_loss improved from 2.16540 to 1.06899, saving model to EfficientNetB7_model.keras\n",
            "1398/1398 [==============================] - 1102s 788ms/step - loss: 1.4174 - accuracy: 0.5965 - val_loss: 1.0690 - val_accuracy: 0.7007 - lr: 1.0000e-05\n",
            "Epoch 3/10\n",
            "1398/1398 [==============================] - ETA: 0s - loss: 0.9569 - accuracy: 0.7286\n",
            "Epoch 3: val_loss improved from 1.06899 to 0.71567, saving model to EfficientNetB7_model.keras\n",
            "1398/1398 [==============================] - 1101s 788ms/step - loss: 0.9569 - accuracy: 0.7286 - val_loss: 0.7157 - val_accuracy: 0.8021 - lr: 1.0000e-05\n",
            "Epoch 4/10\n",
            "1398/1398 [==============================] - ETA: 0s - loss: 0.7341 - accuracy: 0.7924\n",
            "Epoch 4: val_loss improved from 0.71567 to 0.51653, saving model to EfficientNetB7_model.keras\n",
            "1398/1398 [==============================] - 1102s 788ms/step - loss: 0.7341 - accuracy: 0.7924 - val_loss: 0.5165 - val_accuracy: 0.8609 - lr: 1.0000e-05\n",
            "Epoch 5/10\n",
            "1398/1398 [==============================] - ETA: 0s - loss: 0.5828 - accuracy: 0.8353\n",
            "Epoch 5: val_loss improved from 0.51653 to 0.40473, saving model to EfficientNetB7_model.keras\n",
            "1398/1398 [==============================] - 1103s 789ms/step - loss: 0.5828 - accuracy: 0.8353 - val_loss: 0.4047 - val_accuracy: 0.8888 - lr: 1.0000e-05\n",
            "Epoch 6/10\n",
            "1398/1398 [==============================] - ETA: 0s - loss: 0.4869 - accuracy: 0.8605\n",
            "Epoch 6: val_loss improved from 0.40473 to 0.33622, saving model to EfficientNetB7_model.keras\n",
            "1398/1398 [==============================] - 1099s 786ms/step - loss: 0.4869 - accuracy: 0.8605 - val_loss: 0.3362 - val_accuracy: 0.9061 - lr: 1.0000e-05\n",
            "Epoch 7/10\n",
            "1398/1398 [==============================] - ETA: 0s - loss: 0.4233 - accuracy: 0.8774\n",
            "Epoch 7: val_loss improved from 0.33622 to 0.27524, saving model to EfficientNetB7_model.keras\n",
            "1398/1398 [==============================] - 1098s 786ms/step - loss: 0.4233 - accuracy: 0.8774 - val_loss: 0.2752 - val_accuracy: 0.9213 - lr: 1.0000e-05\n",
            "Epoch 8/10\n",
            " 373/1398 [=======>......................] - ETA: 12:26 - loss: 0.3832 - accuracy: 0.8911"
          ]
        }
      ]
    },
    {
      "cell_type": "code",
      "source": [
        "plt.plot(history2.history['loss'], label='Training loss')\n",
        "plt.plot(history2.history['val_loss'], label='Validation loss')\n",
        "plt.legend()\n",
        "plt.xlabel('Epochs')\n",
        "plt.ylabel('Loss Value')\n",
        "plt.title('EfficientNetB7 Training vs Validation Performance')\n",
        "plt.show()"
      ],
      "metadata": {
        "id": "41lwd6deUVeA"
      },
      "execution_count": null,
      "outputs": []
    },
    {
      "cell_type": "code",
      "source": [
        "#Making a prediction out of the EfficientNetB7 for the testing set for the evaluation\n",
        "prediction = EffNetB7.predict(test_gen)\n",
        "pred = list(map(lambda x: mapping_inverse[np.argmax(x)], prediction))\n",
        "y_test = list(map(lambda x: mapping_inverse[x], test_gen.classes))"
      ],
      "metadata": {
        "id": "JhBivsCTUvmH"
      },
      "execution_count": null,
      "outputs": []
    },
    {
      "cell_type": "code",
      "source": [
        "print('\\t The EfficientNetB7 Evaluation Performance')\n",
        "print(classification_report(y_test, pred))"
      ],
      "metadata": {
        "id": "Ez_kVzMfU8nz"
      },
      "execution_count": null,
      "outputs": []
    },
    {
      "cell_type": "markdown",
      "source": [
        "#### 4.3 MobileNetV2"
      ],
      "metadata": {
        "id": "HvwpwmtSVIUm"
      }
    },
    {
      "cell_type": "code",
      "source": [
        "# MobileNetV2 input layers will not be FREEZED\n",
        "train_layers = MobileNetV2(include_top=False, input_shape=IMG_SIZE)\n",
        "MobNetV2 = Sequential()\n",
        "MobNetV2.add(train_layers)\n",
        "MobNetV2.add(Flatten())\n",
        "MobNetV2.add(Dense(1024, activation='selu'))\n",
        "MobNetV2.add(Dropout(0.2))\n",
        "MobNetV2.add(Dense(512, activation='selu'))\n",
        "MobNetV2.add(Dense(len(mapping), activation='softmax'))"
      ],
      "metadata": {
        "id": "yclvFniaVJGS"
      },
      "execution_count": null,
      "outputs": []
    },
    {
      "cell_type": "code",
      "source": [
        "MobNetV2.summary()"
      ],
      "metadata": {
        "id": "0wxOwTiUVQGs"
      },
      "execution_count": null,
      "outputs": []
    },
    {
      "cell_type": "code",
      "source": [
        "MobNetV2.compile(optimizer=opt, loss=loss, metrics=['accuracy'])"
      ],
      "metadata": {
        "id": "ywnXE5ncVSrh"
      },
      "execution_count": null,
      "outputs": []
    },
    {
      "cell_type": "code",
      "source": [
        "history3 = MobNetV2.fit(train_gen, epochs=EPOCHS, validation_data=valid_gen, callbacks=clbck('MobileNetV2'))"
      ],
      "metadata": {
        "id": "ZjRhQlGqVUTW"
      },
      "execution_count": null,
      "outputs": []
    },
    {
      "cell_type": "code",
      "source": [
        "plt.plot(history3.history['loss'], label='Training loss')\n",
        "plt.plot(history3.history['val_loss'], label='Validation loss')\n",
        "plt.legend()\n",
        "plt.xlabel('Epochs')\n",
        "plt.ylabel('Loss value')\n",
        "plt.title(\"MobileNetV2 Training VS. Validation performance\")\n",
        "plt.show()"
      ],
      "metadata": {
        "id": "8ABSR4vFVXB4"
      },
      "execution_count": null,
      "outputs": []
    },
    {
      "cell_type": "code",
      "source": [
        "# Making a prediction out of the MobileNetV2 for the testing set for the evaluation\n",
        "prediction = MobNetV2.predict(test_gen)\n",
        "pred = list(map(lambda x: mapping_inverse[np.argmax(x)], prediction))\n",
        "y_test = list(map(lambda x: mapping_inverse[x],test_gen.classes))"
      ],
      "metadata": {
        "id": "pPgwZdRGVZHz"
      },
      "execution_count": null,
      "outputs": []
    },
    {
      "cell_type": "code",
      "source": [
        "print('\\t     The MobileNetV2 Evaluation Performance')\n",
        "print(classification_report(y_test, pred))"
      ],
      "metadata": {
        "id": "T2SGUAGnVbFp"
      },
      "execution_count": null,
      "outputs": []
    },
    {
      "cell_type": "markdown",
      "source": [
        "#### 4.4 VGG19"
      ],
      "metadata": {
        "id": "midR0_5QVdcq"
      }
    },
    {
      "cell_type": "code",
      "source": [
        "# VGG19 input layers will not be FREEZED\n",
        "train_layers = VGG19(include_top=False, input_shape=IMG_SIZE)\n",
        "VG = Sequential()\n",
        "VG.add(train_layers)\n",
        "VG.add(Flatten())\n",
        "VG.add(Dense(1024, activation='selu'))\n",
        "VG.add(Dense(512, activation='selu'))\n",
        "VG.add(Dense(len(mapping), activation='softmax'))"
      ],
      "metadata": {
        "id": "0RtBFEKwVgcV"
      },
      "execution_count": null,
      "outputs": []
    },
    {
      "cell_type": "code",
      "source": [
        "VG.summary()"
      ],
      "metadata": {
        "id": "hKitKmMHVimB"
      },
      "execution_count": null,
      "outputs": []
    },
    {
      "cell_type": "code",
      "source": [
        "VG.compile(optimizer=opt, loss=loss, metrics=['accuracy'])"
      ],
      "metadata": {
        "id": "jDM3M6oSVkXl"
      },
      "execution_count": null,
      "outputs": []
    },
    {
      "cell_type": "code",
      "source": [
        "history4 = VG.fit(train_gen, validation_data=valid_gen, epochs=EPOCHS, callbacks=clbck('VGG19'))"
      ],
      "metadata": {
        "id": "ZAI7DQ7NVl8y"
      },
      "execution_count": null,
      "outputs": []
    },
    {
      "cell_type": "code",
      "source": [
        "plt.plot(history4.history['loss'], label='Training loss')\n",
        "plt.plot(history4.history['val_loss'], label='Validation loss')\n",
        "plt.legend()\n",
        "plt.xlabel('Epochs')\n",
        "plt.ylabel('Loss value')\n",
        "plt.title(\"VGG19 Training VS. Validation performance\")\n",
        "plt.show()"
      ],
      "metadata": {
        "id": "jkJtb1oIVotI"
      },
      "execution_count": null,
      "outputs": []
    },
    {
      "cell_type": "code",
      "source": [
        "# Making a prediction out of the VGG19 for the testing set for the evaluation\n",
        "prediction = VG.predict(test_gen)\n",
        "pred = list(map(lambda x: mapping_inverse[np.argmax(x)], prediction))\n",
        "y_test = list(map(lambda x: mapping_inverse[x],test_gen.classes))"
      ],
      "metadata": {
        "id": "5QsCLCzFVqty"
      },
      "execution_count": null,
      "outputs": []
    },
    {
      "cell_type": "code",
      "source": [
        "print('\\t\\tThe VGG19 Evaluation Performance')\n",
        "print(classification_report(y_test, pred))"
      ],
      "metadata": {
        "id": "93HBpoXXVsfx"
      },
      "execution_count": null,
      "outputs": []
    },
    {
      "cell_type": "markdown",
      "source": [
        "#### 4.5 DenseNet121"
      ],
      "metadata": {
        "id": "2W19IB_8Vuuw"
      }
    },
    {
      "cell_type": "code",
      "source": [
        "# DenseNset121 input layers will not be FREEZED\n",
        "train_layers = DenseNet121(include_top=False, input_shape=IMG_SIZE)\n",
        "Den = Sequential()\n",
        "Den.add(train_layers)\n",
        "Den.add(Flatten())\n",
        "Den.add(Dense(1024, activation='selu'))\n",
        "Den.add(Dense(512, activation='selu'))\n",
        "Den.add(Dense(len(mapping), activation='softmax'))"
      ],
      "metadata": {
        "id": "l78yagn2VxdR"
      },
      "execution_count": null,
      "outputs": []
    },
    {
      "cell_type": "code",
      "source": [
        "Den.summary()"
      ],
      "metadata": {
        "id": "gFVkXJ8eVzg0"
      },
      "execution_count": null,
      "outputs": []
    },
    {
      "cell_type": "code",
      "source": [
        "Den.compile(optimizer=opt, loss=loss, metrics=['accuracy'])"
      ],
      "metadata": {
        "id": "q9OyKWXGV2TJ"
      },
      "execution_count": null,
      "outputs": []
    },
    {
      "cell_type": "code",
      "source": [
        "history5 = Den.fit(train_gen, validation_data=valid_gen, epochs=10, callbacks=clbck(\"DenseNet121\"))"
      ],
      "metadata": {
        "id": "BSkkOmVqV4FZ"
      },
      "execution_count": null,
      "outputs": []
    },
    {
      "cell_type": "code",
      "source": [
        "plt.plot(history5.history['loss'], label='Training loss')\n",
        "plt.plot(history5.history['val_loss'], label='Validation loss')\n",
        "plt.legend()\n",
        "plt.xlabel('Epochs')\n",
        "plt.ylabel('Loss value')\n",
        "plt.title(\"DenseNet121 Training VS. Validation performance\")\n",
        "plt.show()"
      ],
      "metadata": {
        "id": "_NacPBVfV627"
      },
      "execution_count": null,
      "outputs": []
    },
    {
      "cell_type": "code",
      "source": [
        "# Making a prediction out of the DenseNet121 for the testing set for the evaluation\n",
        "prediction = Den.predict(test_gen)\n",
        "pred = list(map(lambda x: mapping_inverse[np.argmax(x)], prediction))\n",
        "y_test = list(map(lambda x: mapping_inverse[x],test_gen.classes))"
      ],
      "metadata": {
        "id": "e5cFGoV-V9e0"
      },
      "execution_count": null,
      "outputs": []
    },
    {
      "cell_type": "code",
      "source": [
        "print('\\t\\tThe DenseNet121 Evaluation Performance')\n",
        "print(classification_report(y_test, pred))"
      ],
      "metadata": {
        "id": "C1ARkvNJV_J0"
      },
      "execution_count": null,
      "outputs": []
    },
    {
      "cell_type": "markdown",
      "source": [
        "## 5. Evaluation & Comparison"
      ],
      "metadata": {
        "id": "Y9hIKZDDWCo4"
      }
    },
    {
      "cell_type": "code",
      "source": [],
      "metadata": {
        "id": "-kf4KqUfWGxf"
      },
      "execution_count": null,
      "outputs": []
    },
    {
      "cell_type": "code",
      "source": [],
      "metadata": {
        "id": "KKp1Xu1PWBDn"
      },
      "execution_count": null,
      "outputs": []
    }
  ]
}