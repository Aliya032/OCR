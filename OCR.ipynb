{
  "nbformat": 4,
  "nbformat_minor": 0,
  "metadata": {
    "colab": {
      "provenance": [],
      "gpuType": "V28",
      "authorship_tag": "ABX9TyPY1Cepnf/6+6lmIxbDo+XO"
    },
    "kernelspec": {
      "name": "python3",
      "display_name": "Python 3"
    },
    "language_info": {
      "name": "python"
    },
    "accelerator": "TPU"
  },
  "cells": [
    {
      "cell_type": "markdown",
      "source": [
        "# 1. Importing Libraries"
      ],
      "metadata": {
        "id": "d5rAO1ATVvp4"
      }
    },
    {
      "cell_type": "code",
      "execution_count": 1,
      "metadata": {
        "id": "NrQBHyq0hlja"
      },
      "outputs": [],
      "source": [
        "import cv2\n",
        "import numpy as np\n",
        "import pandas as pd\n",
        "import matplotlib.pyplot as plt\n",
        "import seaborn as sns\n",
        "import os\n",
        "\n",
        "from sklearn.model_selection import train_test_split\n",
        "from sklearn.metrics import classification_report"
      ]
    },
    {
      "cell_type": "code",
      "source": [
        "# Tensorflow packages\n",
        "import tensorflow as tf\n",
        "from tensorflow.keras.preprocessing.image import ImageDataGenerator\n",
        "from tensorflow.keras.models import Sequential\n",
        "from tensorflow.keras.layers import (Dense, Dropout, Conv2D, MaxPool2D, BatchNormalization, Flatten, GlobalAveragePooling2D, Input)\n",
        "from tensorflow.keras.optimizers import Adam\n",
        "from tensorflow.keras.callbacks import EarlyStopping, ModelCheckpoint, ReduceLROnPlateau, LearningRateScheduler\n",
        "from tensorflow.keras.applications import EfficientNetB7, MobileNetV2, VGG19, DenseNet121"
      ],
      "metadata": {
        "id": "pIgrsbl-h9Nf"
      },
      "execution_count": 2,
      "outputs": []
    },
    {
      "cell_type": "code",
      "source": [
        "!pip install opendatasets"
      ],
      "metadata": {
        "colab": {
          "base_uri": "https://localhost:8080/"
        },
        "id": "qV9yfC5Cilax",
        "outputId": "a5711b57-8eaa-49bd-ccc5-b49921726f65"
      },
      "execution_count": 3,
      "outputs": [
        {
          "output_type": "stream",
          "name": "stdout",
          "text": [
            "Collecting opendatasets\n",
            "  Downloading opendatasets-0.1.22-py3-none-any.whl.metadata (9.2 kB)\n",
            "Requirement already satisfied: tqdm in /usr/local/lib/python3.10/dist-packages (from opendatasets) (4.66.6)\n",
            "Requirement already satisfied: kaggle in /usr/local/lib/python3.10/dist-packages (from opendatasets) (1.6.17)\n",
            "Requirement already satisfied: click in /usr/local/lib/python3.10/dist-packages (from opendatasets) (8.1.7)\n",
            "Requirement already satisfied: six>=1.10 in /usr/local/lib/python3.10/dist-packages (from kaggle->opendatasets) (1.16.0)\n",
            "Requirement already satisfied: certifi>=2023.7.22 in /usr/local/lib/python3.10/dist-packages (from kaggle->opendatasets) (2024.8.30)\n",
            "Requirement already satisfied: python-dateutil in /usr/local/lib/python3.10/dist-packages (from kaggle->opendatasets) (2.9.0.post0)\n",
            "Requirement already satisfied: requests in /usr/local/lib/python3.10/dist-packages (from kaggle->opendatasets) (2.32.3)\n",
            "Requirement already satisfied: python-slugify in /usr/local/lib/python3.10/dist-packages (from kaggle->opendatasets) (8.0.4)\n",
            "Requirement already satisfied: urllib3 in /usr/local/lib/python3.10/dist-packages (from kaggle->opendatasets) (2.2.3)\n",
            "Requirement already satisfied: bleach in /usr/local/lib/python3.10/dist-packages (from kaggle->opendatasets) (6.2.0)\n",
            "Requirement already satisfied: webencodings in /usr/local/lib/python3.10/dist-packages (from bleach->kaggle->opendatasets) (0.5.1)\n",
            "Requirement already satisfied: text-unidecode>=1.3 in /usr/local/lib/python3.10/dist-packages (from python-slugify->kaggle->opendatasets) (1.3)\n",
            "Requirement already satisfied: charset-normalizer<4,>=2 in /usr/local/lib/python3.10/dist-packages (from requests->kaggle->opendatasets) (3.4.0)\n",
            "Requirement already satisfied: idna<4,>=2.5 in /usr/local/lib/python3.10/dist-packages (from requests->kaggle->opendatasets) (3.10)\n",
            "Downloading opendatasets-0.1.22-py3-none-any.whl (15 kB)\n",
            "Installing collected packages: opendatasets\n",
            "Successfully installed opendatasets-0.1.22\n"
          ]
        }
      ]
    },
    {
      "cell_type": "code",
      "source": [
        "import opendatasets as od\n",
        "import pandas"
      ],
      "metadata": {
        "id": "Ikra-qRUkL2p"
      },
      "execution_count": 4,
      "outputs": []
    },
    {
      "cell_type": "code",
      "source": [
        "od.download('https://www.kaggle.com/datasets/harieh/ocr-dataset/')"
      ],
      "metadata": {
        "colab": {
          "base_uri": "https://localhost:8080/"
        },
        "id": "xAM2Z-WMkw9z",
        "outputId": "dfa77571-13fa-4008-c46c-bcd6e4f7bcff"
      },
      "execution_count": 5,
      "outputs": [
        {
          "output_type": "stream",
          "name": "stdout",
          "text": [
            "Please provide your Kaggle credentials to download this dataset. Learn more: http://bit.ly/kaggle-creds\n",
            "Your Kaggle username: aliyafatima032\n",
            "Your Kaggle Key: ··········\n",
            "Dataset URL: https://www.kaggle.com/datasets/harieh/ocr-dataset\n",
            "Downloading ocr-dataset.zip to ./ocr-dataset\n"
          ]
        },
        {
          "output_type": "stream",
          "name": "stderr",
          "text": [
            "100%|██████████| 153M/153M [00:01<00:00, 112MB/s]\n"
          ]
        },
        {
          "output_type": "stream",
          "name": "stdout",
          "text": [
            "\n"
          ]
        }
      ]
    },
    {
      "cell_type": "markdown",
      "source": [
        "# 2. Helper Functions & Hyperparameters"
      ],
      "metadata": {
        "id": "hE9fzwWMWLFf"
      }
    },
    {
      "cell_type": "markdown",
      "source": [
        "- This section is to define all Helper functions through the notebook and any hyperparameters used later for training the models."
      ],
      "metadata": {
        "id": "bGZWS-aFWSwH"
      }
    },
    {
      "cell_type": "code",
      "source": [
        "def directory_to_df(path: '/content/ocr-dataset/dataset'):\n",
        "  df = []\n",
        "  chars = 'abcdefghijklmnopqrstuvwxyz' # to include lowercase letters only\n",
        "  for cls in os.listdir(path):\n",
        "    cls_path = os.path.join(path, cls)\n",
        "    cls_name = cls.split('_')[0]\n",
        "    if not cls_name in chars:\n",
        "      continue\n",
        "    for img_path in os.listdir(cls_path):\n",
        "      direct = os.path.join(cls_path, img_path)\n",
        "      df.append([direct, cls_name])\n",
        "\n",
        "  df = pd.DataFrame(df, columns=['image', 'label'])\n",
        "  print('The number of samples found: ', len(df))\n",
        "  return df.copy()\n"
      ],
      "metadata": {
        "id": "moVXjR9cmZ3z"
      },
      "execution_count": 6,
      "outputs": []
    },
    {
      "cell_type": "code",
      "source": [
        "def read_image(path):\n",
        "    image = cv2.imread(path)\n",
        "    image = cv2.cvtColor(image, cv2.COLOR_BGR2RGB)\n",
        "    return image\n",
        "\n"
      ],
      "metadata": {
        "id": "n75LeK8Ckzqa"
      },
      "execution_count": 63,
      "outputs": []
    },
    {
      "cell_type": "code",
      "source": [
        "def show_image(img, label=None) -> None:\n",
        "    plt.imshow(img, cmap='gray')\n",
        "    plt.axis(False)\n",
        "    plt.title(label)\n",
        "    plt.show()\n"
      ],
      "metadata": {
        "id": "O-2J7SPSsrJ3"
      },
      "execution_count": 62,
      "outputs": []
    },
    {
      "cell_type": "code",
      "source": [
        "def clbck(model_name):\n",
        "    # The function is defined to make the callbacks for training the models\n",
        "    ERLY = EarlyStopping(patience=10, min_delta=0.01, start_from_epoch=10, verbose=1)\n",
        "    RD = ReduceLROnPlateau(patience=5, min_delta=0.01, factor=0.5)\n",
        "    CHK = ModelCheckpoint(f'{model_name}_model.keras',verbose=1, save_best_only=True)\n",
        "    return [ERLY,RD,CHK]"
      ],
      "metadata": {
        "id": "DF83KhSPsswt"
      },
      "execution_count": 9,
      "outputs": []
    },
    {
      "cell_type": "code",
      "source": [
        "# pre-defined hyperparameters\n",
        "IMG_SHAPE = (32,32)\n",
        "IMG_SIZE = (32,32,3)\n",
        "BATCH_SIZE = 32\n",
        "opt = Adam(learning_rate = 0.00001, epsilon=1e-16)\n",
        "loss = 'categorical_crossentropy'\n",
        "EPOCHS = 10"
      ],
      "metadata": {
        "id": "R7dAuAJYtaYc"
      },
      "execution_count": 10,
      "outputs": []
    },
    {
      "cell_type": "markdown",
      "source": [
        "# 3. Reading & preparing the dataset"
      ],
      "metadata": {
        "id": "ovnX-WXiuRlW"
      }
    },
    {
      "cell_type": "code",
      "source": [
        "# Reading the dataset in dataframe\n",
        "main_path = '/content/ocr-dataset/dataset'\n",
        "df = directory_to_df(main_path) #convert the dataset into df of two columns\n",
        "df.head()\n"
      ],
      "metadata": {
        "colab": {
          "base_uri": "https://localhost:8080/",
          "height": 224
        },
        "id": "F33TcZLguSMr",
        "outputId": "85596a37-979b-4855-9449-8f14924a3f4e"
      },
      "execution_count": 11,
      "outputs": [
        {
          "output_type": "stream",
          "name": "stdout",
          "text": [
            "The number of samples found:  85199\n"
          ]
        },
        {
          "output_type": "execute_result",
          "data": {
            "text/plain": [
              "                                           image label\n",
              "0  /content/ocr-dataset/dataset/u_L/U_L_3214.png     u\n",
              "1  /content/ocr-dataset/dataset/u_L/U_L_2748.png     u\n",
              "2   /content/ocr-dataset/dataset/u_L/U_L_831.png     u\n",
              "3   /content/ocr-dataset/dataset/u_L/U_L_473.png     u\n",
              "4  /content/ocr-dataset/dataset/u_L/U_L_3186.png     u"
            ],
            "text/html": [
              "\n",
              "  <div id=\"df-5dc0c80e-34d6-4335-9ecc-5ada1a579520\" class=\"colab-df-container\">\n",
              "    <div>\n",
              "<style scoped>\n",
              "    .dataframe tbody tr th:only-of-type {\n",
              "        vertical-align: middle;\n",
              "    }\n",
              "\n",
              "    .dataframe tbody tr th {\n",
              "        vertical-align: top;\n",
              "    }\n",
              "\n",
              "    .dataframe thead th {\n",
              "        text-align: right;\n",
              "    }\n",
              "</style>\n",
              "<table border=\"1\" class=\"dataframe\">\n",
              "  <thead>\n",
              "    <tr style=\"text-align: right;\">\n",
              "      <th></th>\n",
              "      <th>image</th>\n",
              "      <th>label</th>\n",
              "    </tr>\n",
              "  </thead>\n",
              "  <tbody>\n",
              "    <tr>\n",
              "      <th>0</th>\n",
              "      <td>/content/ocr-dataset/dataset/u_L/U_L_3214.png</td>\n",
              "      <td>u</td>\n",
              "    </tr>\n",
              "    <tr>\n",
              "      <th>1</th>\n",
              "      <td>/content/ocr-dataset/dataset/u_L/U_L_2748.png</td>\n",
              "      <td>u</td>\n",
              "    </tr>\n",
              "    <tr>\n",
              "      <th>2</th>\n",
              "      <td>/content/ocr-dataset/dataset/u_L/U_L_831.png</td>\n",
              "      <td>u</td>\n",
              "    </tr>\n",
              "    <tr>\n",
              "      <th>3</th>\n",
              "      <td>/content/ocr-dataset/dataset/u_L/U_L_473.png</td>\n",
              "      <td>u</td>\n",
              "    </tr>\n",
              "    <tr>\n",
              "      <th>4</th>\n",
              "      <td>/content/ocr-dataset/dataset/u_L/U_L_3186.png</td>\n",
              "      <td>u</td>\n",
              "    </tr>\n",
              "  </tbody>\n",
              "</table>\n",
              "</div>\n",
              "    <div class=\"colab-df-buttons\">\n",
              "\n",
              "  <div class=\"colab-df-container\">\n",
              "    <button class=\"colab-df-convert\" onclick=\"convertToInteractive('df-5dc0c80e-34d6-4335-9ecc-5ada1a579520')\"\n",
              "            title=\"Convert this dataframe to an interactive table.\"\n",
              "            style=\"display:none;\">\n",
              "\n",
              "  <svg xmlns=\"http://www.w3.org/2000/svg\" height=\"24px\" viewBox=\"0 -960 960 960\">\n",
              "    <path d=\"M120-120v-720h720v720H120Zm60-500h600v-160H180v160Zm220 220h160v-160H400v160Zm0 220h160v-160H400v160ZM180-400h160v-160H180v160Zm440 0h160v-160H620v160ZM180-180h160v-160H180v160Zm440 0h160v-160H620v160Z\"/>\n",
              "  </svg>\n",
              "    </button>\n",
              "\n",
              "  <style>\n",
              "    .colab-df-container {\n",
              "      display:flex;\n",
              "      gap: 12px;\n",
              "    }\n",
              "\n",
              "    .colab-df-convert {\n",
              "      background-color: #E8F0FE;\n",
              "      border: none;\n",
              "      border-radius: 50%;\n",
              "      cursor: pointer;\n",
              "      display: none;\n",
              "      fill: #1967D2;\n",
              "      height: 32px;\n",
              "      padding: 0 0 0 0;\n",
              "      width: 32px;\n",
              "    }\n",
              "\n",
              "    .colab-df-convert:hover {\n",
              "      background-color: #E2EBFA;\n",
              "      box-shadow: 0px 1px 2px rgba(60, 64, 67, 0.3), 0px 1px 3px 1px rgba(60, 64, 67, 0.15);\n",
              "      fill: #174EA6;\n",
              "    }\n",
              "\n",
              "    .colab-df-buttons div {\n",
              "      margin-bottom: 4px;\n",
              "    }\n",
              "\n",
              "    [theme=dark] .colab-df-convert {\n",
              "      background-color: #3B4455;\n",
              "      fill: #D2E3FC;\n",
              "    }\n",
              "\n",
              "    [theme=dark] .colab-df-convert:hover {\n",
              "      background-color: #434B5C;\n",
              "      box-shadow: 0px 1px 3px 1px rgba(0, 0, 0, 0.15);\n",
              "      filter: drop-shadow(0px 1px 2px rgba(0, 0, 0, 0.3));\n",
              "      fill: #FFFFFF;\n",
              "    }\n",
              "  </style>\n",
              "\n",
              "    <script>\n",
              "      const buttonEl =\n",
              "        document.querySelector('#df-5dc0c80e-34d6-4335-9ecc-5ada1a579520 button.colab-df-convert');\n",
              "      buttonEl.style.display =\n",
              "        google.colab.kernel.accessAllowed ? 'block' : 'none';\n",
              "\n",
              "      async function convertToInteractive(key) {\n",
              "        const element = document.querySelector('#df-5dc0c80e-34d6-4335-9ecc-5ada1a579520');\n",
              "        const dataTable =\n",
              "          await google.colab.kernel.invokeFunction('convertToInteractive',\n",
              "                                                    [key], {});\n",
              "        if (!dataTable) return;\n",
              "\n",
              "        const docLinkHtml = 'Like what you see? Visit the ' +\n",
              "          '<a target=\"_blank\" href=https://colab.research.google.com/notebooks/data_table.ipynb>data table notebook</a>'\n",
              "          + ' to learn more about interactive tables.';\n",
              "        element.innerHTML = '';\n",
              "        dataTable['output_type'] = 'display_data';\n",
              "        await google.colab.output.renderOutput(dataTable, element);\n",
              "        const docLink = document.createElement('div');\n",
              "        docLink.innerHTML = docLinkHtml;\n",
              "        element.appendChild(docLink);\n",
              "      }\n",
              "    </script>\n",
              "  </div>\n",
              "\n",
              "\n",
              "<div id=\"df-b40b6711-02bc-4d1a-aa5c-b2fd85a6c485\">\n",
              "  <button class=\"colab-df-quickchart\" onclick=\"quickchart('df-b40b6711-02bc-4d1a-aa5c-b2fd85a6c485')\"\n",
              "            title=\"Suggest charts\"\n",
              "            style=\"display:none;\">\n",
              "\n",
              "<svg xmlns=\"http://www.w3.org/2000/svg\" height=\"24px\"viewBox=\"0 0 24 24\"\n",
              "     width=\"24px\">\n",
              "    <g>\n",
              "        <path d=\"M19 3H5c-1.1 0-2 .9-2 2v14c0 1.1.9 2 2 2h14c1.1 0 2-.9 2-2V5c0-1.1-.9-2-2-2zM9 17H7v-7h2v7zm4 0h-2V7h2v10zm4 0h-2v-4h2v4z\"/>\n",
              "    </g>\n",
              "</svg>\n",
              "  </button>\n",
              "\n",
              "<style>\n",
              "  .colab-df-quickchart {\n",
              "      --bg-color: #E8F0FE;\n",
              "      --fill-color: #1967D2;\n",
              "      --hover-bg-color: #E2EBFA;\n",
              "      --hover-fill-color: #174EA6;\n",
              "      --disabled-fill-color: #AAA;\n",
              "      --disabled-bg-color: #DDD;\n",
              "  }\n",
              "\n",
              "  [theme=dark] .colab-df-quickchart {\n",
              "      --bg-color: #3B4455;\n",
              "      --fill-color: #D2E3FC;\n",
              "      --hover-bg-color: #434B5C;\n",
              "      --hover-fill-color: #FFFFFF;\n",
              "      --disabled-bg-color: #3B4455;\n",
              "      --disabled-fill-color: #666;\n",
              "  }\n",
              "\n",
              "  .colab-df-quickchart {\n",
              "    background-color: var(--bg-color);\n",
              "    border: none;\n",
              "    border-radius: 50%;\n",
              "    cursor: pointer;\n",
              "    display: none;\n",
              "    fill: var(--fill-color);\n",
              "    height: 32px;\n",
              "    padding: 0;\n",
              "    width: 32px;\n",
              "  }\n",
              "\n",
              "  .colab-df-quickchart:hover {\n",
              "    background-color: var(--hover-bg-color);\n",
              "    box-shadow: 0 1px 2px rgba(60, 64, 67, 0.3), 0 1px 3px 1px rgba(60, 64, 67, 0.15);\n",
              "    fill: var(--button-hover-fill-color);\n",
              "  }\n",
              "\n",
              "  .colab-df-quickchart-complete:disabled,\n",
              "  .colab-df-quickchart-complete:disabled:hover {\n",
              "    background-color: var(--disabled-bg-color);\n",
              "    fill: var(--disabled-fill-color);\n",
              "    box-shadow: none;\n",
              "  }\n",
              "\n",
              "  .colab-df-spinner {\n",
              "    border: 2px solid var(--fill-color);\n",
              "    border-color: transparent;\n",
              "    border-bottom-color: var(--fill-color);\n",
              "    animation:\n",
              "      spin 1s steps(1) infinite;\n",
              "  }\n",
              "\n",
              "  @keyframes spin {\n",
              "    0% {\n",
              "      border-color: transparent;\n",
              "      border-bottom-color: var(--fill-color);\n",
              "      border-left-color: var(--fill-color);\n",
              "    }\n",
              "    20% {\n",
              "      border-color: transparent;\n",
              "      border-left-color: var(--fill-color);\n",
              "      border-top-color: var(--fill-color);\n",
              "    }\n",
              "    30% {\n",
              "      border-color: transparent;\n",
              "      border-left-color: var(--fill-color);\n",
              "      border-top-color: var(--fill-color);\n",
              "      border-right-color: var(--fill-color);\n",
              "    }\n",
              "    40% {\n",
              "      border-color: transparent;\n",
              "      border-right-color: var(--fill-color);\n",
              "      border-top-color: var(--fill-color);\n",
              "    }\n",
              "    60% {\n",
              "      border-color: transparent;\n",
              "      border-right-color: var(--fill-color);\n",
              "    }\n",
              "    80% {\n",
              "      border-color: transparent;\n",
              "      border-right-color: var(--fill-color);\n",
              "      border-bottom-color: var(--fill-color);\n",
              "    }\n",
              "    90% {\n",
              "      border-color: transparent;\n",
              "      border-bottom-color: var(--fill-color);\n",
              "    }\n",
              "  }\n",
              "</style>\n",
              "\n",
              "  <script>\n",
              "    async function quickchart(key) {\n",
              "      const quickchartButtonEl =\n",
              "        document.querySelector('#' + key + ' button');\n",
              "      quickchartButtonEl.disabled = true;  // To prevent multiple clicks.\n",
              "      quickchartButtonEl.classList.add('colab-df-spinner');\n",
              "      try {\n",
              "        const charts = await google.colab.kernel.invokeFunction(\n",
              "            'suggestCharts', [key], {});\n",
              "      } catch (error) {\n",
              "        console.error('Error during call to suggestCharts:', error);\n",
              "      }\n",
              "      quickchartButtonEl.classList.remove('colab-df-spinner');\n",
              "      quickchartButtonEl.classList.add('colab-df-quickchart-complete');\n",
              "    }\n",
              "    (() => {\n",
              "      let quickchartButtonEl =\n",
              "        document.querySelector('#df-b40b6711-02bc-4d1a-aa5c-b2fd85a6c485 button');\n",
              "      quickchartButtonEl.style.display =\n",
              "        google.colab.kernel.accessAllowed ? 'block' : 'none';\n",
              "    })();\n",
              "  </script>\n",
              "</div>\n",
              "\n",
              "    </div>\n",
              "  </div>\n"
            ],
            "application/vnd.google.colaboratory.intrinsic+json": {
              "type": "dataframe",
              "variable_name": "df",
              "summary": "{\n  \"name\": \"df\",\n  \"rows\": 85199,\n  \"fields\": [\n    {\n      \"column\": \"image\",\n      \"properties\": {\n        \"dtype\": \"string\",\n        \"num_unique_values\": 85199,\n        \"samples\": [\n          \"/content/ocr-dataset/dataset/e_L/E_L_854.png\",\n          \"/content/ocr-dataset/dataset/v_L/V_L_2719.png\",\n          \"/content/ocr-dataset/dataset/v_L/V_L_1532.png\"\n        ],\n        \"semantic_type\": \"\",\n        \"description\": \"\"\n      }\n    },\n    {\n      \"column\": \"label\",\n      \"properties\": {\n        \"dtype\": \"category\",\n        \"num_unique_values\": 26,\n        \"samples\": [\n          \"s\",\n          \"h\",\n          \"u\"\n        ],\n        \"semantic_type\": \"\",\n        \"description\": \"\"\n      }\n    }\n  ]\n}"
            }
          },
          "metadata": {},
          "execution_count": 11
        }
      ]
    },
    {
      "cell_type": "code",
      "source": [
        "df['label'].value_counts()"
      ],
      "metadata": {
        "colab": {
          "base_uri": "https://localhost:8080/",
          "height": 931
        },
        "id": "3VGvo0S4u3_1",
        "outputId": "8c9e80a1-136b-4521-c1d3-e7910ef98699"
      },
      "execution_count": 12,
      "outputs": [
        {
          "output_type": "execute_result",
          "data": {
            "text/plain": [
              "label\n",
              "e    3284\n",
              "r    3284\n",
              "n    3281\n",
              "a    3281\n",
              "m    3281\n",
              "q    3279\n",
              "u    3278\n",
              "d    3277\n",
              "i    3277\n",
              "s    3276\n",
              "t    3276\n",
              "y    3276\n",
              "l    3276\n",
              "k    3276\n",
              "x    3276\n",
              "z    3275\n",
              "h    3275\n",
              "g    3275\n",
              "w    3275\n",
              "p    3275\n",
              "o    3275\n",
              "f    3275\n",
              "c    3274\n",
              "b    3274\n",
              "v    3274\n",
              "j    3274\n",
              "Name: count, dtype: int64"
            ],
            "text/html": [
              "<div>\n",
              "<style scoped>\n",
              "    .dataframe tbody tr th:only-of-type {\n",
              "        vertical-align: middle;\n",
              "    }\n",
              "\n",
              "    .dataframe tbody tr th {\n",
              "        vertical-align: top;\n",
              "    }\n",
              "\n",
              "    .dataframe thead th {\n",
              "        text-align: right;\n",
              "    }\n",
              "</style>\n",
              "<table border=\"1\" class=\"dataframe\">\n",
              "  <thead>\n",
              "    <tr style=\"text-align: right;\">\n",
              "      <th></th>\n",
              "      <th>count</th>\n",
              "    </tr>\n",
              "    <tr>\n",
              "      <th>label</th>\n",
              "      <th></th>\n",
              "    </tr>\n",
              "  </thead>\n",
              "  <tbody>\n",
              "    <tr>\n",
              "      <th>e</th>\n",
              "      <td>3284</td>\n",
              "    </tr>\n",
              "    <tr>\n",
              "      <th>r</th>\n",
              "      <td>3284</td>\n",
              "    </tr>\n",
              "    <tr>\n",
              "      <th>n</th>\n",
              "      <td>3281</td>\n",
              "    </tr>\n",
              "    <tr>\n",
              "      <th>a</th>\n",
              "      <td>3281</td>\n",
              "    </tr>\n",
              "    <tr>\n",
              "      <th>m</th>\n",
              "      <td>3281</td>\n",
              "    </tr>\n",
              "    <tr>\n",
              "      <th>q</th>\n",
              "      <td>3279</td>\n",
              "    </tr>\n",
              "    <tr>\n",
              "      <th>u</th>\n",
              "      <td>3278</td>\n",
              "    </tr>\n",
              "    <tr>\n",
              "      <th>d</th>\n",
              "      <td>3277</td>\n",
              "    </tr>\n",
              "    <tr>\n",
              "      <th>i</th>\n",
              "      <td>3277</td>\n",
              "    </tr>\n",
              "    <tr>\n",
              "      <th>s</th>\n",
              "      <td>3276</td>\n",
              "    </tr>\n",
              "    <tr>\n",
              "      <th>t</th>\n",
              "      <td>3276</td>\n",
              "    </tr>\n",
              "    <tr>\n",
              "      <th>y</th>\n",
              "      <td>3276</td>\n",
              "    </tr>\n",
              "    <tr>\n",
              "      <th>l</th>\n",
              "      <td>3276</td>\n",
              "    </tr>\n",
              "    <tr>\n",
              "      <th>k</th>\n",
              "      <td>3276</td>\n",
              "    </tr>\n",
              "    <tr>\n",
              "      <th>x</th>\n",
              "      <td>3276</td>\n",
              "    </tr>\n",
              "    <tr>\n",
              "      <th>z</th>\n",
              "      <td>3275</td>\n",
              "    </tr>\n",
              "    <tr>\n",
              "      <th>h</th>\n",
              "      <td>3275</td>\n",
              "    </tr>\n",
              "    <tr>\n",
              "      <th>g</th>\n",
              "      <td>3275</td>\n",
              "    </tr>\n",
              "    <tr>\n",
              "      <th>w</th>\n",
              "      <td>3275</td>\n",
              "    </tr>\n",
              "    <tr>\n",
              "      <th>p</th>\n",
              "      <td>3275</td>\n",
              "    </tr>\n",
              "    <tr>\n",
              "      <th>o</th>\n",
              "      <td>3275</td>\n",
              "    </tr>\n",
              "    <tr>\n",
              "      <th>f</th>\n",
              "      <td>3275</td>\n",
              "    </tr>\n",
              "    <tr>\n",
              "      <th>c</th>\n",
              "      <td>3274</td>\n",
              "    </tr>\n",
              "    <tr>\n",
              "      <th>b</th>\n",
              "      <td>3274</td>\n",
              "    </tr>\n",
              "    <tr>\n",
              "      <th>v</th>\n",
              "      <td>3274</td>\n",
              "    </tr>\n",
              "    <tr>\n",
              "      <th>j</th>\n",
              "      <td>3274</td>\n",
              "    </tr>\n",
              "  </tbody>\n",
              "</table>\n",
              "</div><br><label><b>dtype:</b> int64</label>"
            ]
          },
          "metadata": {},
          "execution_count": 12
        }
      ]
    },
    {
      "cell_type": "markdown",
      "source": [
        "## 3.1 Splitting the dataframe\n",
        "\n",
        "- The dataframe is splitted to get 70% of the dataset for `training` & 30% for `testing`.\n",
        "- The training set is splitted into `training` & `vaidation` to enhance model tranining."
      ],
      "metadata": {
        "id": "0m5rSNYGu9yO"
      }
    },
    {
      "cell_type": "code",
      "source": [
        "# splitting for training & testing (70, 30 respectively)\n",
        "X, y = df['image'], df['label']\n",
        "X_train, X_test, y_train, y_test = train_test_split(X, y, test_size = 0.30, random_state = 41)\n",
        "training_df = pd.concat((X_train, y_train), axis=1)\n",
        "testing_df = pd.concat((X_test, y_test), axis=1)"
      ],
      "metadata": {
        "id": "HQBo0x3HvC0d"
      },
      "execution_count": 13,
      "outputs": []
    },
    {
      "cell_type": "code",
      "source": [
        "training_df.head()"
      ],
      "metadata": {
        "colab": {
          "base_uri": "https://localhost:8080/",
          "height": 206
        },
        "id": "1iP3jRiEv6Vq",
        "outputId": "e5927677-f37b-44e2-92bd-103e710df116"
      },
      "execution_count": 14,
      "outputs": [
        {
          "output_type": "execute_result",
          "data": {
            "text/plain": [
              "                                               image label\n",
              "64309  /content/ocr-dataset/dataset/l_L/L_L_1703.png     l\n",
              "4822   /content/ocr-dataset/dataset/v_L/V_L_2665.png     v\n",
              "41804  /content/ocr-dataset/dataset/x_L/X_L_2685.png     x\n",
              "67645  /content/ocr-dataset/dataset/t_L/T_L_1725.png     t\n",
              "84614    /content/ocr-dataset/dataset/o_L/O_L_32.png     o"
            ],
            "text/html": [
              "\n",
              "  <div id=\"df-9a879728-38ad-4535-9461-59330b7a9117\" class=\"colab-df-container\">\n",
              "    <div>\n",
              "<style scoped>\n",
              "    .dataframe tbody tr th:only-of-type {\n",
              "        vertical-align: middle;\n",
              "    }\n",
              "\n",
              "    .dataframe tbody tr th {\n",
              "        vertical-align: top;\n",
              "    }\n",
              "\n",
              "    .dataframe thead th {\n",
              "        text-align: right;\n",
              "    }\n",
              "</style>\n",
              "<table border=\"1\" class=\"dataframe\">\n",
              "  <thead>\n",
              "    <tr style=\"text-align: right;\">\n",
              "      <th></th>\n",
              "      <th>image</th>\n",
              "      <th>label</th>\n",
              "    </tr>\n",
              "  </thead>\n",
              "  <tbody>\n",
              "    <tr>\n",
              "      <th>64309</th>\n",
              "      <td>/content/ocr-dataset/dataset/l_L/L_L_1703.png</td>\n",
              "      <td>l</td>\n",
              "    </tr>\n",
              "    <tr>\n",
              "      <th>4822</th>\n",
              "      <td>/content/ocr-dataset/dataset/v_L/V_L_2665.png</td>\n",
              "      <td>v</td>\n",
              "    </tr>\n",
              "    <tr>\n",
              "      <th>41804</th>\n",
              "      <td>/content/ocr-dataset/dataset/x_L/X_L_2685.png</td>\n",
              "      <td>x</td>\n",
              "    </tr>\n",
              "    <tr>\n",
              "      <th>67645</th>\n",
              "      <td>/content/ocr-dataset/dataset/t_L/T_L_1725.png</td>\n",
              "      <td>t</td>\n",
              "    </tr>\n",
              "    <tr>\n",
              "      <th>84614</th>\n",
              "      <td>/content/ocr-dataset/dataset/o_L/O_L_32.png</td>\n",
              "      <td>o</td>\n",
              "    </tr>\n",
              "  </tbody>\n",
              "</table>\n",
              "</div>\n",
              "    <div class=\"colab-df-buttons\">\n",
              "\n",
              "  <div class=\"colab-df-container\">\n",
              "    <button class=\"colab-df-convert\" onclick=\"convertToInteractive('df-9a879728-38ad-4535-9461-59330b7a9117')\"\n",
              "            title=\"Convert this dataframe to an interactive table.\"\n",
              "            style=\"display:none;\">\n",
              "\n",
              "  <svg xmlns=\"http://www.w3.org/2000/svg\" height=\"24px\" viewBox=\"0 -960 960 960\">\n",
              "    <path d=\"M120-120v-720h720v720H120Zm60-500h600v-160H180v160Zm220 220h160v-160H400v160Zm0 220h160v-160H400v160ZM180-400h160v-160H180v160Zm440 0h160v-160H620v160ZM180-180h160v-160H180v160Zm440 0h160v-160H620v160Z\"/>\n",
              "  </svg>\n",
              "    </button>\n",
              "\n",
              "  <style>\n",
              "    .colab-df-container {\n",
              "      display:flex;\n",
              "      gap: 12px;\n",
              "    }\n",
              "\n",
              "    .colab-df-convert {\n",
              "      background-color: #E8F0FE;\n",
              "      border: none;\n",
              "      border-radius: 50%;\n",
              "      cursor: pointer;\n",
              "      display: none;\n",
              "      fill: #1967D2;\n",
              "      height: 32px;\n",
              "      padding: 0 0 0 0;\n",
              "      width: 32px;\n",
              "    }\n",
              "\n",
              "    .colab-df-convert:hover {\n",
              "      background-color: #E2EBFA;\n",
              "      box-shadow: 0px 1px 2px rgba(60, 64, 67, 0.3), 0px 1px 3px 1px rgba(60, 64, 67, 0.15);\n",
              "      fill: #174EA6;\n",
              "    }\n",
              "\n",
              "    .colab-df-buttons div {\n",
              "      margin-bottom: 4px;\n",
              "    }\n",
              "\n",
              "    [theme=dark] .colab-df-convert {\n",
              "      background-color: #3B4455;\n",
              "      fill: #D2E3FC;\n",
              "    }\n",
              "\n",
              "    [theme=dark] .colab-df-convert:hover {\n",
              "      background-color: #434B5C;\n",
              "      box-shadow: 0px 1px 3px 1px rgba(0, 0, 0, 0.15);\n",
              "      filter: drop-shadow(0px 1px 2px rgba(0, 0, 0, 0.3));\n",
              "      fill: #FFFFFF;\n",
              "    }\n",
              "  </style>\n",
              "\n",
              "    <script>\n",
              "      const buttonEl =\n",
              "        document.querySelector('#df-9a879728-38ad-4535-9461-59330b7a9117 button.colab-df-convert');\n",
              "      buttonEl.style.display =\n",
              "        google.colab.kernel.accessAllowed ? 'block' : 'none';\n",
              "\n",
              "      async function convertToInteractive(key) {\n",
              "        const element = document.querySelector('#df-9a879728-38ad-4535-9461-59330b7a9117');\n",
              "        const dataTable =\n",
              "          await google.colab.kernel.invokeFunction('convertToInteractive',\n",
              "                                                    [key], {});\n",
              "        if (!dataTable) return;\n",
              "\n",
              "        const docLinkHtml = 'Like what you see? Visit the ' +\n",
              "          '<a target=\"_blank\" href=https://colab.research.google.com/notebooks/data_table.ipynb>data table notebook</a>'\n",
              "          + ' to learn more about interactive tables.';\n",
              "        element.innerHTML = '';\n",
              "        dataTable['output_type'] = 'display_data';\n",
              "        await google.colab.output.renderOutput(dataTable, element);\n",
              "        const docLink = document.createElement('div');\n",
              "        docLink.innerHTML = docLinkHtml;\n",
              "        element.appendChild(docLink);\n",
              "      }\n",
              "    </script>\n",
              "  </div>\n",
              "\n",
              "\n",
              "<div id=\"df-3cb6fbdd-95a5-4103-a36e-a6ada9c57f12\">\n",
              "  <button class=\"colab-df-quickchart\" onclick=\"quickchart('df-3cb6fbdd-95a5-4103-a36e-a6ada9c57f12')\"\n",
              "            title=\"Suggest charts\"\n",
              "            style=\"display:none;\">\n",
              "\n",
              "<svg xmlns=\"http://www.w3.org/2000/svg\" height=\"24px\"viewBox=\"0 0 24 24\"\n",
              "     width=\"24px\">\n",
              "    <g>\n",
              "        <path d=\"M19 3H5c-1.1 0-2 .9-2 2v14c0 1.1.9 2 2 2h14c1.1 0 2-.9 2-2V5c0-1.1-.9-2-2-2zM9 17H7v-7h2v7zm4 0h-2V7h2v10zm4 0h-2v-4h2v4z\"/>\n",
              "    </g>\n",
              "</svg>\n",
              "  </button>\n",
              "\n",
              "<style>\n",
              "  .colab-df-quickchart {\n",
              "      --bg-color: #E8F0FE;\n",
              "      --fill-color: #1967D2;\n",
              "      --hover-bg-color: #E2EBFA;\n",
              "      --hover-fill-color: #174EA6;\n",
              "      --disabled-fill-color: #AAA;\n",
              "      --disabled-bg-color: #DDD;\n",
              "  }\n",
              "\n",
              "  [theme=dark] .colab-df-quickchart {\n",
              "      --bg-color: #3B4455;\n",
              "      --fill-color: #D2E3FC;\n",
              "      --hover-bg-color: #434B5C;\n",
              "      --hover-fill-color: #FFFFFF;\n",
              "      --disabled-bg-color: #3B4455;\n",
              "      --disabled-fill-color: #666;\n",
              "  }\n",
              "\n",
              "  .colab-df-quickchart {\n",
              "    background-color: var(--bg-color);\n",
              "    border: none;\n",
              "    border-radius: 50%;\n",
              "    cursor: pointer;\n",
              "    display: none;\n",
              "    fill: var(--fill-color);\n",
              "    height: 32px;\n",
              "    padding: 0;\n",
              "    width: 32px;\n",
              "  }\n",
              "\n",
              "  .colab-df-quickchart:hover {\n",
              "    background-color: var(--hover-bg-color);\n",
              "    box-shadow: 0 1px 2px rgba(60, 64, 67, 0.3), 0 1px 3px 1px rgba(60, 64, 67, 0.15);\n",
              "    fill: var(--button-hover-fill-color);\n",
              "  }\n",
              "\n",
              "  .colab-df-quickchart-complete:disabled,\n",
              "  .colab-df-quickchart-complete:disabled:hover {\n",
              "    background-color: var(--disabled-bg-color);\n",
              "    fill: var(--disabled-fill-color);\n",
              "    box-shadow: none;\n",
              "  }\n",
              "\n",
              "  .colab-df-spinner {\n",
              "    border: 2px solid var(--fill-color);\n",
              "    border-color: transparent;\n",
              "    border-bottom-color: var(--fill-color);\n",
              "    animation:\n",
              "      spin 1s steps(1) infinite;\n",
              "  }\n",
              "\n",
              "  @keyframes spin {\n",
              "    0% {\n",
              "      border-color: transparent;\n",
              "      border-bottom-color: var(--fill-color);\n",
              "      border-left-color: var(--fill-color);\n",
              "    }\n",
              "    20% {\n",
              "      border-color: transparent;\n",
              "      border-left-color: var(--fill-color);\n",
              "      border-top-color: var(--fill-color);\n",
              "    }\n",
              "    30% {\n",
              "      border-color: transparent;\n",
              "      border-left-color: var(--fill-color);\n",
              "      border-top-color: var(--fill-color);\n",
              "      border-right-color: var(--fill-color);\n",
              "    }\n",
              "    40% {\n",
              "      border-color: transparent;\n",
              "      border-right-color: var(--fill-color);\n",
              "      border-top-color: var(--fill-color);\n",
              "    }\n",
              "    60% {\n",
              "      border-color: transparent;\n",
              "      border-right-color: var(--fill-color);\n",
              "    }\n",
              "    80% {\n",
              "      border-color: transparent;\n",
              "      border-right-color: var(--fill-color);\n",
              "      border-bottom-color: var(--fill-color);\n",
              "    }\n",
              "    90% {\n",
              "      border-color: transparent;\n",
              "      border-bottom-color: var(--fill-color);\n",
              "    }\n",
              "  }\n",
              "</style>\n",
              "\n",
              "  <script>\n",
              "    async function quickchart(key) {\n",
              "      const quickchartButtonEl =\n",
              "        document.querySelector('#' + key + ' button');\n",
              "      quickchartButtonEl.disabled = true;  // To prevent multiple clicks.\n",
              "      quickchartButtonEl.classList.add('colab-df-spinner');\n",
              "      try {\n",
              "        const charts = await google.colab.kernel.invokeFunction(\n",
              "            'suggestCharts', [key], {});\n",
              "      } catch (error) {\n",
              "        console.error('Error during call to suggestCharts:', error);\n",
              "      }\n",
              "      quickchartButtonEl.classList.remove('colab-df-spinner');\n",
              "      quickchartButtonEl.classList.add('colab-df-quickchart-complete');\n",
              "    }\n",
              "    (() => {\n",
              "      let quickchartButtonEl =\n",
              "        document.querySelector('#df-3cb6fbdd-95a5-4103-a36e-a6ada9c57f12 button');\n",
              "      quickchartButtonEl.style.display =\n",
              "        google.colab.kernel.accessAllowed ? 'block' : 'none';\n",
              "    })();\n",
              "  </script>\n",
              "</div>\n",
              "\n",
              "    </div>\n",
              "  </div>\n"
            ],
            "application/vnd.google.colaboratory.intrinsic+json": {
              "type": "dataframe",
              "variable_name": "training_df",
              "summary": "{\n  \"name\": \"training_df\",\n  \"rows\": 59639,\n  \"fields\": [\n    {\n      \"column\": \"image\",\n      \"properties\": {\n        \"dtype\": \"string\",\n        \"num_unique_values\": 59639,\n        \"samples\": [\n          \"/content/ocr-dataset/dataset/j_L/J_L_1942.png\",\n          \"/content/ocr-dataset/dataset/n_L/N_L_1090.png\",\n          \"/content/ocr-dataset/dataset/u_L/U_L_3175.png\"\n        ],\n        \"semantic_type\": \"\",\n        \"description\": \"\"\n      }\n    },\n    {\n      \"column\": \"label\",\n      \"properties\": {\n        \"dtype\": \"category\",\n        \"num_unique_values\": 26,\n        \"samples\": [\n          \"u\",\n          \"z\",\n          \"l\"\n        ],\n        \"semantic_type\": \"\",\n        \"description\": \"\"\n      }\n    }\n  ]\n}"
            }
          },
          "metadata": {},
          "execution_count": 14
        }
      ]
    },
    {
      "cell_type": "code",
      "source": [
        "# Splitting for training & validation (75, 25 respectively) -> the training set size = 52.5%\n",
        "X, y = training_df['image'], training_df['label']\n",
        "X_train, X_valid, y_train, y_valid = train_test_split(X, y, test_size = 0.25, random_state = 41)\n",
        "training_df = pd.concat((X_train, y_train), axis=1)\n",
        "validation_df = pd.concat((X_valid, y_valid), axis=1)"
      ],
      "metadata": {
        "id": "-f-A9Vgnv8RS"
      },
      "execution_count": 15,
      "outputs": []
    },
    {
      "cell_type": "markdown",
      "source": [
        "## 3.2 Creating Generators\n",
        "- The `ImageDataGenerators` is used for data augmentation, the augmentation is required since the `OCR` can work with different brightness which is not included in the dataset.\n",
        "- Also it enhances the RAM usage."
      ],
      "metadata": {
        "id": "rV8Bje-8BOFw"
      }
    },
    {
      "cell_type": "code",
      "source": [
        "# Creating generators\n",
        "gen = ImageDataGenerator(dtype=np.int32, brightness_range=[0.0,1.0], fill_mode='nearest')\n",
        "gen2 = ImageDataGenerator(dtype=np.int32, fill_mode='nearest')\n",
        "train_gen = gen.flow_from_dataframe(training_df, x_col='image',y_col='label', batch_size=BATCH_SIZE,\n",
        "                                   target_size=IMG_SHAPE)\n",
        "valid_gen = gen2.flow_from_dataframe(validation_df, x_col='image', y_col='label', batch_size=BATCH_SIZE,\n",
        "                                        target_size=IMG_SHAPE, shuffle=False)\n",
        "test_gen = gen2.flow_from_dataframe(testing_df, x_col='image', y_col='label', batch_size=BATCH_SIZE,\n",
        "                                       target_size=IMG_SHAPE, shuffle=False)"
      ],
      "metadata": {
        "colab": {
          "base_uri": "https://localhost:8080/"
        },
        "id": "2OFH7ZXgBPZ5",
        "outputId": "ada29060-b853-4bc6-c922-fca7bce85810"
      },
      "execution_count": 16,
      "outputs": [
        {
          "output_type": "stream",
          "name": "stdout",
          "text": [
            "Found 44729 validated image filenames belonging to 26 classes.\n",
            "Found 14910 validated image filenames belonging to 26 classes.\n",
            "Found 25560 validated image filenames belonging to 26 classes.\n"
          ]
        }
      ]
    },
    {
      "cell_type": "code",
      "source": [
        "# Making a mapping of the classes & the inverse for later processings\n",
        "mapping = train_gen.class_indices\n",
        "mapping_inverse = dict(map(lambda x: tuple(reversed(x)), mapping.items()))"
      ],
      "metadata": {
        "id": "b_gKjWlSBQJ5"
      },
      "execution_count": 17,
      "outputs": []
    },
    {
      "cell_type": "code",
      "source": [
        "# Reading a sample from the dataset.\n",
        "BATCH_NUM = 10\n",
        "IMG_NUM = 2      # from 0 to 31\n",
        "show_image(train_gen[BATCH_NUM][0][IMG_NUM],mapping_inverse[train_gen[BATCH_NUM][1][IMG_NUM].argmax()])\n",
        "print('The shape of the image:',train_gen[BATCH_NUM][0][IMG_NUM].shape)"
      ],
      "metadata": {
        "colab": {
          "base_uri": "https://localhost:8080/",
          "height": 445
        },
        "id": "WAxq06V0Cigb",
        "outputId": "78be35ba-5156-4a1a-e4b0-c5c8c5a0eea1"
      },
      "execution_count": 18,
      "outputs": [
        {
          "output_type": "display_data",
          "data": {
            "text/plain": [
              "<Figure size 640x480 with 1 Axes>"
            ],
            "image/png": "[encoded data removed]"
          },
          "metadata": {}
        },
        {
          "output_type": "stream",
          "name": "stdout",
          "text": [
            "The shape of the image: (32, 32, 3)\n"
          ]
        }
      ]
    },
    {
      "cell_type": "code",
      "source": [
        "# Reading another sample from the dataset\n",
        "BATCH_NUM = 65\n",
        "IMG_NUM = 30      # from 0 to 31\n",
        "show_image(train_gen[BATCH_NUM][0][IMG_NUM],mapping_inverse[train_gen[BATCH_NUM][1][IMG_NUM].argmax()])\n",
        "print('The shape of the image:',train_gen[BATCH_NUM][0][IMG_NUM].shape)"
      ],
      "metadata": {
        "colab": {
          "base_uri": "https://localhost:8080/",
          "height": 445
        },
        "id": "AqPMmvcSC8te",
        "outputId": "5c47509d-fe90-44bb-ff0d-3b892f2fed1e"
      },
      "execution_count": 19,
      "outputs": [
        {
          "output_type": "display_data",
          "data": {
            "text/plain": [
              "<Figure size 640x480 with 1 Axes>"
            ],
            "image/png": "[encoded data removed]"
          },
          "metadata": {}
        },
        {
          "output_type": "stream",
          "name": "stdout",
          "text": [
            "The shape of the image: (32, 32, 3)\n"
          ]
        }
      ]
    },
    {
      "cell_type": "markdown",
      "source": [
        "# 4. Modelling\n",
        "Our target is to build a `custom CNN model` to train on our targeted images for the `OCR` application. In advance, I'll try to use 4 pre-trained models as part of `Transfer Learning` and to enhance the performance of the application.\n",
        "\n",
        "**The targeted pre-trained models are the following:**\n",
        "- *EfficientNetB7*\n",
        "- *MobileNetV2*\n",
        "- *VGG19*\n",
        "- *DenseNet121*\n",
        "\n",
        "***The fine-tuning strategy:*** Using a small value of `LR` of the optimizer `Adam` will make an efficient use of pre-trained models on the dataset without **FREEZING** the input layers in which better performance is required in the case."
      ],
      "metadata": {
        "id": "O-lkolCkDRfj"
      }
    },
    {
      "cell_type": "markdown",
      "source": [
        "## 4.1 Custom CNN"
      ],
      "metadata": {
        "id": "23pVKLOtDSZe"
      }
    },
    {
      "cell_type": "code",
      "source": [
        "# Custom CNN\n",
        "CNN_model = Sequential()\n",
        "CNN_model.add(Input(shape=IMG_SIZE, batch_size=BATCH_SIZE, name='Input'))\n",
        "CNN_model.add(Conv2D(3, (3,3), strides=1, activation='relu', padding='same'))\n",
        "CNN_model.add(Conv2D(128, (3,3), activation='relu'))\n",
        "CNN_model.add(MaxPool2D((3,3)))\n",
        "CNN_model.add(Conv2D(256, (3,3), activation='relu'))\n",
        "CNN_model.add(Dropout(0.2))\n",
        "CNN_model.add(Conv2D(256, (3,3), strides=2, activation='relu', padding='same'))\n",
        "CNN_model.add(MaxPool2D((2,2)))\n",
        "CNN_model.add(Conv2D(512, (3,3), activation='relu', padding='same'))\n",
        "CNN_model.add(Dropout(0.2))\n",
        "CNN_model.add(Conv2D(1024, (2,2), activation='relu', padding='same'))\n",
        "CNN_model.add(MaxPool2D(2,2))\n",
        "CNN_model.add(Flatten())\n",
        "CNN_model.add(Dense(1024, activation='selu'))\n",
        "CNN_model.add(Dense(len(mapping), activation='softmax'))"
      ],
      "metadata": {
        "id": "bZ-5f_kNDTPB"
      },
      "execution_count": 20,
      "outputs": []
    },
    {
      "cell_type": "code",
      "source": [
        "CNN_model.summary()"
      ],
      "metadata": {
        "colab": {
          "base_uri": "https://localhost:8080/"
        },
        "id": "fugCj0WaDTmU",
        "outputId": "88970d97-868d-4460-99c7-64ad2d7ada38"
      },
      "execution_count": 21,
      "outputs": [
        {
          "output_type": "stream",
          "name": "stdout",
          "text": [
            "Model: \"sequential\"\n",
            "_________________________________________________________________\n",
            " Layer (type)                Output Shape              Param #   \n",
            "=================================================================\n",
            " conv2d (Conv2D)             (32, 32, 32, 3)           84        \n",
            "                                                                 \n",
            " conv2d_1 (Conv2D)           (32, 30, 30, 128)         3584      \n",
            "                                                                 \n",
            " max_pooling2d (MaxPooling2  (32, 10, 10, 128)         0         \n",
            " D)                                                              \n",
            "                                                                 \n",
            " conv2d_2 (Conv2D)           (32, 8, 8, 256)           295168    \n",
            "                                                                 \n",
            " dropout (Dropout)           (32, 8, 8, 256)           0         \n",
            "                                                                 \n",
            " conv2d_3 (Conv2D)           (32, 4, 4, 256)           590080    \n",
            "                                                                 \n",
            " max_pooling2d_1 (MaxPoolin  (32, 2, 2, 256)           0         \n",
            " g2D)                                                            \n",
            "                                                                 \n",
            " conv2d_4 (Conv2D)           (32, 2, 2, 512)           1180160   \n",
            "                                                                 \n",
            " dropout_1 (Dropout)         (32, 2, 2, 512)           0         \n",
            "                                                                 \n",
            " conv2d_5 (Conv2D)           (32, 2, 2, 1024)          2098176   \n",
            "                                                                 \n",
            " max_pooling2d_2 (MaxPoolin  (32, 1, 1, 1024)          0         \n",
            " g2D)                                                            \n",
            "                                                                 \n",
            " flatten (Flatten)           (32, 1024)                0         \n",
            "                                                                 \n",
            " dense (Dense)               (32, 1024)                1049600   \n",
            "                                                                 \n",
            " dense_1 (Dense)             (32, 26)                  26650     \n",
            "                                                                 \n",
            "=================================================================\n",
            "Total params: 5243502 (20.00 MB)\n",
            "Trainable params: 5243502 (20.00 MB)\n",
            "Non-trainable params: 0 (0.00 Byte)\n",
            "_________________________________________________________________\n"
          ]
        }
      ]
    },
    {
      "cell_type": "code",
      "source": [
        "#Default parameters of adam will be used for the custom CNN\n",
        "CNN_model.compile(optimizer=Adam(), loss=loss, metrics=['accuracy'])"
      ],
      "metadata": {
        "id": "5CBmjQNADTz-"
      },
      "execution_count": 22,
      "outputs": []
    },
    {
      "cell_type": "code",
      "source": [
        "# different num of epochs will be given for better convergence for the custom CNN\n",
        "history = CNN_model.fit(train_gen, epochs=20, validation_data=valid_gen, callbacks=clbck(\"CustomCnn\"))"
      ],
      "metadata": {
        "colab": {
          "base_uri": "https://localhost:8080/"
        },
        "id": "3M2N671wFzvs",
        "outputId": "04b37034-d4e0-4b90-9b16-9679f4161a70"
      },
      "execution_count": 23,
      "outputs": [
        {
          "output_type": "stream",
          "name": "stdout",
          "text": [
            "Epoch 1/20\n",
            "1398/1398 [==============================] - ETA: 0s - loss: 1.2774 - accuracy: 0.6521\n",
            "Epoch 1: val_loss improved from inf to 0.45105, saving model to CustomCnn_model.keras\n",
            "1398/1398 [==============================] - 67s 47ms/step - loss: 1.2774 - accuracy: 0.6521 - val_loss: 0.4511 - val_accuracy: 0.8763 - lr: 0.0010\n",
            "Epoch 2/20\n",
            "1397/1398 [============================>.] - ETA: 0s - loss: 0.4446 - accuracy: 0.8784\n",
            "Epoch 2: val_loss did not improve from 0.45105\n",
            "1398/1398 [==============================] - 65s 47ms/step - loss: 0.4445 - accuracy: 0.8784 - val_loss: 0.4648 - val_accuracy: 0.8844 - lr: 0.0010\n",
            "Epoch 3/20\n",
            "1397/1398 [============================>.] - ETA: 0s - loss: 0.3860 - accuracy: 0.8953\n",
            "Epoch 3: val_loss improved from 0.45105 to 0.33262, saving model to CustomCnn_model.keras\n",
            "1398/1398 [==============================] - 65s 47ms/step - loss: 0.3858 - accuracy: 0.8954 - val_loss: 0.3326 - val_accuracy: 0.9190 - lr: 0.0010\n",
            "Epoch 4/20\n",
            "1398/1398 [==============================] - ETA: 0s - loss: 0.3346 - accuracy: 0.9102\n",
            "Epoch 4: val_loss improved from 0.33262 to 0.29262, saving model to CustomCnn_model.keras\n",
            "1398/1398 [==============================] - 66s 47ms/step - loss: 0.3346 - accuracy: 0.9102 - val_loss: 0.2926 - val_accuracy: 0.9259 - lr: 0.0010\n",
            "Epoch 5/20\n",
            "1397/1398 [============================>.] - ETA: 0s - loss: 0.3200 - accuracy: 0.9153\n",
            "Epoch 5: val_loss did not improve from 0.29262\n",
            "1398/1398 [==============================] - 65s 47ms/step - loss: 0.3200 - accuracy: 0.9153 - val_loss: 0.3210 - val_accuracy: 0.9261 - lr: 0.0010\n",
            "Epoch 6/20\n",
            "1397/1398 [============================>.] - ETA: 0s - loss: 0.3278 - accuracy: 0.9146\n",
            "Epoch 6: val_loss did not improve from 0.29262\n",
            "1398/1398 [==============================] - 65s 47ms/step - loss: 0.3279 - accuracy: 0.9146 - val_loss: 0.3014 - val_accuracy: 0.9280 - lr: 0.0010\n",
            "Epoch 7/20\n",
            "1398/1398 [==============================] - ETA: 0s - loss: 0.2879 - accuracy: 0.9243\n",
            "Epoch 7: val_loss did not improve from 0.29262\n",
            "1398/1398 [==============================] - 65s 47ms/step - loss: 0.2879 - accuracy: 0.9243 - val_loss: 0.2987 - val_accuracy: 0.9330 - lr: 0.0010\n",
            "Epoch 8/20\n",
            "1398/1398 [==============================] - ETA: 0s - loss: 0.2807 - accuracy: 0.9268\n",
            "Epoch 8: val_loss did not improve from 0.29262\n",
            "1398/1398 [==============================] - 65s 46ms/step - loss: 0.2807 - accuracy: 0.9268 - val_loss: 0.3370 - val_accuracy: 0.9247 - lr: 0.0010\n",
            "Epoch 9/20\n",
            "1398/1398 [==============================] - ETA: 0s - loss: 0.2849 - accuracy: 0.9270\n",
            "Epoch 9: val_loss improved from 0.29262 to 0.27031, saving model to CustomCnn_model.keras\n",
            "1398/1398 [==============================] - 66s 47ms/step - loss: 0.2849 - accuracy: 0.9270 - val_loss: 0.2703 - val_accuracy: 0.9420 - lr: 0.0010\n",
            "Epoch 10/20\n",
            "1397/1398 [============================>.] - ETA: 0s - loss: 0.2742 - accuracy: 0.9295\n",
            "Epoch 10: val_loss did not improve from 0.27031\n",
            "1398/1398 [==============================] - 65s 47ms/step - loss: 0.2741 - accuracy: 0.9295 - val_loss: 0.3168 - val_accuracy: 0.9294 - lr: 0.0010\n",
            "Epoch 11/20\n",
            "1397/1398 [============================>.] - ETA: 0s - loss: 0.2722 - accuracy: 0.9307\n",
            "Epoch 11: val_loss did not improve from 0.27031\n",
            "1398/1398 [==============================] - 65s 47ms/step - loss: 0.2721 - accuracy: 0.9308 - val_loss: 0.3722 - val_accuracy: 0.9324 - lr: 0.0010\n",
            "Epoch 12/20\n",
            "1398/1398 [==============================] - ETA: 0s - loss: 0.2634 - accuracy: 0.9334\n",
            "Epoch 12: val_loss did not improve from 0.27031\n",
            "1398/1398 [==============================] - 65s 46ms/step - loss: 0.2634 - accuracy: 0.9334 - val_loss: 0.3690 - val_accuracy: 0.9316 - lr: 0.0010\n",
            "Epoch 13/20\n",
            "1397/1398 [============================>.] - ETA: 0s - loss: 0.2627 - accuracy: 0.9328\n",
            "Epoch 13: val_loss did not improve from 0.27031\n",
            "1398/1398 [==============================] - 65s 46ms/step - loss: 0.2626 - accuracy: 0.9328 - val_loss: 0.3794 - val_accuracy: 0.9249 - lr: 0.0010\n",
            "Epoch 14/20\n",
            "1398/1398 [==============================] - ETA: 0s - loss: 0.2597 - accuracy: 0.9339\n",
            "Epoch 14: val_loss did not improve from 0.27031\n",
            "1398/1398 [==============================] - 65s 47ms/step - loss: 0.2597 - accuracy: 0.9339 - val_loss: 0.3407 - val_accuracy: 0.9337 - lr: 0.0010\n",
            "Epoch 15/20\n",
            "1397/1398 [============================>.] - ETA: 0s - loss: 0.1628 - accuracy: 0.9546\n",
            "Epoch 15: val_loss improved from 0.27031 to 0.24321, saving model to CustomCnn_model.keras\n",
            "1398/1398 [==============================] - 66s 47ms/step - loss: 0.1629 - accuracy: 0.9546 - val_loss: 0.2432 - val_accuracy: 0.9527 - lr: 5.0000e-04\n",
            "Epoch 16/20\n",
            "1398/1398 [==============================] - ETA: 0s - loss: 0.1389 - accuracy: 0.9612\n",
            "Epoch 16: val_loss did not improve from 0.24321\n",
            "1398/1398 [==============================] - 65s 47ms/step - loss: 0.1389 - accuracy: 0.9612 - val_loss: 0.2726 - val_accuracy: 0.9502 - lr: 5.0000e-04\n",
            "Epoch 17/20\n",
            "1398/1398 [==============================] - ETA: 0s - loss: 0.1392 - accuracy: 0.9628\n",
            "Epoch 17: val_loss did not improve from 0.24321\n",
            "1398/1398 [==============================] - 65s 47ms/step - loss: 0.1392 - accuracy: 0.9628 - val_loss: 0.2599 - val_accuracy: 0.9492 - lr: 5.0000e-04\n",
            "Epoch 18/20\n",
            "1398/1398 [==============================] - ETA: 0s - loss: 0.1313 - accuracy: 0.9632\n",
            "Epoch 18: val_loss did not improve from 0.24321\n",
            "1398/1398 [==============================] - 65s 47ms/step - loss: 0.1313 - accuracy: 0.9632 - val_loss: 0.3373 - val_accuracy: 0.9437 - lr: 5.0000e-04\n",
            "Epoch 19/20\n",
            "1398/1398 [==============================] - ETA: 0s - loss: 0.1273 - accuracy: 0.9657\n",
            "Epoch 19: val_loss did not improve from 0.24321\n",
            "1398/1398 [==============================] - 65s 47ms/step - loss: 0.1273 - accuracy: 0.9657 - val_loss: 0.2621 - val_accuracy: 0.9541 - lr: 5.0000e-04\n",
            "Epoch 20/20\n",
            "1398/1398 [==============================] - ETA: 0s - loss: 0.1277 - accuracy: 0.9653\n",
            "Epoch 20: val_loss did not improve from 0.24321\n",
            "1398/1398 [==============================] - 65s 47ms/step - loss: 0.1277 - accuracy: 0.9653 - val_loss: 0.2998 - val_accuracy: 0.9544 - lr: 5.0000e-04\n"
          ]
        }
      ]
    },
    {
      "cell_type": "code",
      "source": [
        "plt.plot(history.history['loss'], label='Training loss')\n",
        "plt.plot(history.history['val_loss'], label='Validation loss')\n",
        "plt.legend()\n",
        "plt.xlabel('Epochs')\n",
        "plt.ylabel('Loss value')\n",
        "plt.title('Custom CNN Tranining VS. Validation performance')\n",
        "plt.show()"
      ],
      "metadata": {
        "colab": {
          "base_uri": "https://localhost:8080/",
          "height": 472
        },
        "id": "ivyzJwAiGBs5",
        "outputId": "7822fbf7-2aba-4f15-9278-3dc9112c6bab"
      },
      "execution_count": 25,
      "outputs": [
        {
          "output_type": "display_data",
          "data": {
            "text/plain": [
              "<Figure size 640x480 with 1 Axes>"
            ],
            "image/png": "[encoded data removed]"
          },
          "metadata": {}
        }
      ]
    },
    {
      "cell_type": "code",
      "source": [
        "# Making a prediction out of the Custom CNN for the testing set for the evaluation\n",
        "prediction = CNN_model.predict(test_gen)\n",
        "pred = list(map(lambda x: mapping_inverse[np.argmax(x)], prediction))\n",
        "y_test = list(map(lambda x: mapping_inverse[x], test_gen.classes))"
      ],
      "metadata": {
        "colab": {
          "base_uri": "https://localhost:8080/"
        },
        "id": "IkX_OPuiS5-6",
        "outputId": "4c25a3ff-262f-4682-c0da-829f92c670c8"
      },
      "execution_count": 26,
      "outputs": [
        {
          "output_type": "stream",
          "name": "stdout",
          "text": [
            "799/799 [==============================] - 12s 15ms/step\n"
          ]
        }
      ]
    },
    {
      "cell_type": "code",
      "source": [
        "print('\\t\\tThe Custom CNN Evaluation Performance')\n",
        "print(classification_report(y_test, pred))"
      ],
      "metadata": {
        "colab": {
          "base_uri": "https://localhost:8080/"
        },
        "id": "Kg3hmL48TPCf",
        "outputId": "2eb9f8a2-aef3-4395-e2bd-8d391410aee8"
      },
      "execution_count": 27,
      "outputs": [
        {
          "output_type": "stream",
          "name": "stdout",
          "text": [
            "\t\tThe Custom CNN Evaluation Performance\n",
            "              precision    recall  f1-score   support\n",
            "\n",
            "           a       0.94      0.92      0.93       933\n",
            "           b       0.96      0.97      0.96      1014\n",
            "           c       0.94      0.96      0.95       980\n",
            "           d       0.97      0.95      0.96       974\n",
            "           e       0.95      0.94      0.95       981\n",
            "           f       0.98      0.94      0.96      1046\n",
            "           g       0.98      0.92      0.95       981\n",
            "           h       0.95      0.96      0.96       980\n",
            "           i       0.96      0.91      0.94       952\n",
            "           j       0.95      0.97      0.96       926\n",
            "           k       0.99      0.95      0.97      1002\n",
            "           l       0.90      0.97      0.94       997\n",
            "           m       0.97      0.96      0.96       974\n",
            "           n       0.91      0.96      0.93      1011\n",
            "           o       0.90      0.97      0.93       949\n",
            "           p       0.96      0.96      0.96      1005\n",
            "           q       0.98      0.94      0.96       963\n",
            "           r       0.92      0.95      0.94       975\n",
            "           s       0.96      0.93      0.95      1002\n",
            "           t       0.90      0.96      0.93      1001\n",
            "           u       0.96      0.96      0.96      1010\n",
            "           v       0.95      0.95      0.95       968\n",
            "           w       0.98      0.96      0.97       991\n",
            "           x       0.98      0.96      0.97      1000\n",
            "           y       0.95      0.95      0.95       959\n",
            "           z       0.97      0.96      0.96       986\n",
            "\n",
            "    accuracy                           0.95     25560\n",
            "   macro avg       0.95      0.95      0.95     25560\n",
            "weighted avg       0.95      0.95      0.95     25560\n",
            "\n"
          ]
        }
      ]
    },
    {
      "cell_type": "markdown",
      "source": [
        "## 4.2 EfficientNetB7"
      ],
      "metadata": {
        "id": "yFmv9D9OTZb0"
      }
    },
    {
      "cell_type": "code",
      "source": [
        "# EfficientNetB7 input layers will not be FREEZED\n",
        "train_layers = EfficientNetB7(include_top=False, input_shape=IMG_SIZE)\n",
        "EffNetB7 = Sequential()\n",
        "EffNetB7.add(train_layers)\n",
        "EffNetB7.add(Flatten())\n",
        "EffNetB7.add(Dense(1024, activation='selu'))\n",
        "EffNetB7.add(Dropout(0.2))\n",
        "EffNetB7.add(Dense(512, activation='selu'))\n",
        "EffNetB7.add(Dense(len(mapping), activation='softmax'))"
      ],
      "metadata": {
        "colab": {
          "base_uri": "https://localhost:8080/"
        },
        "id": "pB8w-_H2Tbuj",
        "outputId": "9fe58c9b-d9e6-4763-b4f9-e1283c9ea9b3"
      },
      "execution_count": 28,
      "outputs": [
        {
          "output_type": "stream",
          "name": "stdout",
          "text": [
            "Downloading data from https://storage.googleapis.com/keras-applications/efficientnetb7_notop.h5\n",
            "258076736/258076736 [==============================] - 1s 0us/step\n"
          ]
        }
      ]
    },
    {
      "cell_type": "code",
      "source": [
        "EffNetB7.summary()"
      ],
      "metadata": {
        "colab": {
          "base_uri": "https://localhost:8080/"
        },
        "id": "On_7X2HiTcXS",
        "outputId": "e817227e-5908-4dea-8469-3553fe77bd9c"
      },
      "execution_count": 29,
      "outputs": [
        {
          "output_type": "stream",
          "name": "stdout",
          "text": [
            "Model: \"sequential_1\"\n",
            "_________________________________________________________________\n",
            " Layer (type)                Output Shape              Param #   \n",
            "=================================================================\n",
            " efficientnetb7 (Functional  (None, 1, 1, 2560)        64097687  \n",
            " )                                                               \n",
            "                                                                 \n",
            " flatten_1 (Flatten)         (None, 2560)              0         \n",
            "                                                                 \n",
            " dense_2 (Dense)             (None, 1024)              2622464   \n",
            "                                                                 \n",
            " dropout_2 (Dropout)         (None, 1024)              0         \n",
            "                                                                 \n",
            " dense_3 (Dense)             (None, 512)               524800    \n",
            "                                                                 \n",
            " dense_4 (Dense)             (None, 26)                13338     \n",
            "                                                                 \n",
            "=================================================================\n",
            "Total params: 67258289 (256.57 MB)\n",
            "Trainable params: 66947562 (255.38 MB)\n",
            "Non-trainable params: 310727 (1.19 MB)\n",
            "_________________________________________________________________\n"
          ]
        }
      ]
    },
    {
      "cell_type": "code",
      "source": [
        "# The pre-defined optimizer will be used with too small learning rate\n",
        "EffNetB7.compile(optimizer=opt, loss=loss, metrics=['accuracy'])"
      ],
      "metadata": {
        "id": "6MRa2gLYTdc-"
      },
      "execution_count": 30,
      "outputs": []
    },
    {
      "cell_type": "code",
      "source": [
        "history2 = EffNetB7.fit(train_gen, epochs=EPOCHS, validation_data=valid_gen, callbacks=clbck(\"EfficientNetB7\"))"
      ],
      "metadata": {
        "colab": {
          "base_uri": "https://localhost:8080/",
          "height": 141
        },
        "id": "-F-7jaYkUTp9",
        "outputId": "86c39fb8-6ed7-438a-be2c-b6b85328ac19"
      },
      "execution_count": null,
      "outputs": [
        {
          "output_type": "error",
          "ename": "NameError",
          "evalue": "name 'EffNetB7' is not defined",
          "traceback": [
            "\u001b[0;31m---------------------------------------------------------------------------\u001b[0m",
            "\u001b[0;31mNameError\u001b[0m                                 Traceback (most recent call last)",
            "\u001b[0;32m<ipython-input-1-ffdc072aff95>\u001b[0m in \u001b[0;36m<cell line: 1>\u001b[0;34m()\u001b[0m\n\u001b[0;32m----> 1\u001b[0;31m \u001b[0mhistory2\u001b[0m \u001b[0;34m=\u001b[0m \u001b[0mEffNetB7\u001b[0m\u001b[0;34m.\u001b[0m\u001b[0mfit\u001b[0m\u001b[0;34m(\u001b[0m\u001b[0mtrain_gen\u001b[0m\u001b[0;34m,\u001b[0m \u001b[0mepochs\u001b[0m\u001b[0;34m=\u001b[0m\u001b[0mEPOCHS\u001b[0m\u001b[0;34m,\u001b[0m \u001b[0mvalidation_data\u001b[0m\u001b[0;34m=\u001b[0m\u001b[0mvalid_gen\u001b[0m\u001b[0;34m,\u001b[0m \u001b[0mcallbacks\u001b[0m\u001b[0;34m=\u001b[0m\u001b[0mclbck\u001b[0m\u001b[0;34m(\u001b[0m\u001b[0;34m\"EfficientNetB7\"\u001b[0m\u001b[0;34m)\u001b[0m\u001b[0;34m)\u001b[0m\u001b[0;34m\u001b[0m\u001b[0;34m\u001b[0m\u001b[0m\n\u001b[0m",
            "\u001b[0;31mNameError\u001b[0m: name 'EffNetB7' is not defined"
          ]
        }
      ]
    },
    {
      "cell_type": "code",
      "source": [
        "plt.plot(history2.history['loss'], label='Training loss')\n",
        "plt.plot(history2.history['val_loss'], label='Validation loss')\n",
        "plt.legend()\n",
        "plt.xlabel('Epochs')\n",
        "plt.ylabel('Loss Value')\n",
        "plt.title('EfficientNetB7 Training vs Validation Performance')\n",
        "plt.show()"
      ],
      "metadata": {
        "id": "41lwd6deUVeA"
      },
      "execution_count": null,
      "outputs": []
    },
    {
      "cell_type": "code",
      "source": [
        "#Making a prediction out of the EfficientNetB7 for the testing set for the evaluation\n",
        "prediction = EffNetB7.predict(test_gen)\n",
        "pred = list(map(lambda x: mapping_inverse[np.argmax(x)], prediction))\n",
        "y_test = list(map(lambda x: mapping_inverse[x], test_gen.classes))"
      ],
      "metadata": {
        "id": "JhBivsCTUvmH"
      },
      "execution_count": null,
      "outputs": []
    },
    {
      "cell_type": "code",
      "source": [
        "print('\\t The EfficientNetB7 Evaluation Performance')\n",
        "print(classification_report(y_test, pred))"
      ],
      "metadata": {
        "id": "Ez_kVzMfU8nz"
      },
      "execution_count": null,
      "outputs": []
    },
    {
      "cell_type": "markdown",
      "source": [
        "## 4.3 MobileNetV2"
      ],
      "metadata": {
        "id": "HvwpwmtSVIUm"
      }
    },
    {
      "cell_type": "code",
      "source": [
        "# MobileNetV2 input layers will not be FREEZED\n",
        "train_layers = MobileNetV2(include_top=False, input_shape=IMG_SIZE)\n",
        "MobNetV2 = Sequential()\n",
        "MobNetV2.add(train_layers)\n",
        "MobNetV2.add(Flatten())\n",
        "MobNetV2.add(Dense(1024, activation='selu'))\n",
        "MobNetV2.add(Dropout(0.2))\n",
        "MobNetV2.add(Dense(512, activation='selu'))\n",
        "MobNetV2.add(Dense(len(mapping), activation='softmax'))"
      ],
      "metadata": {
        "id": "yclvFniaVJGS",
        "colab": {
          "base_uri": "https://localhost:8080/"
        },
        "outputId": "4f4ec29f-6c67-45c5-eff8-fd3f23e5f9ba"
      },
      "execution_count": 56,
      "outputs": [
        {
          "output_type": "stream",
          "name": "stderr",
          "text": [
            "WARNING:tensorflow:`input_shape` is undefined or non-square, or `rows` is not in [96, 128, 160, 192, 224]. Weights for input shape (224, 224) will be loaded as the default.\n"
          ]
        },
        {
          "output_type": "stream",
          "name": "stdout",
          "text": [
            "Downloading data from https://storage.googleapis.com/tensorflow/keras-applications/mobilenet_v2/mobilenet_v2_weights_tf_dim_ordering_tf_kernels_1.0_224_no_top.h5\n",
            "9406464/9406464 [==============================] - 0s 0us/step\n"
          ]
        }
      ]
    },
    {
      "cell_type": "code",
      "source": [
        "MobNetV2.summary()"
      ],
      "metadata": {
        "id": "0wxOwTiUVQGs",
        "colab": {
          "base_uri": "https://localhost:8080/"
        },
        "outputId": "5aa3fdb2-b9ee-461a-bff0-11fbb9c19d7b"
      },
      "execution_count": 57,
      "outputs": [
        {
          "output_type": "stream",
          "name": "stdout",
          "text": [
            "Model: \"sequential_3\"\n",
            "_________________________________________________________________\n",
            " Layer (type)                Output Shape              Param #   \n",
            "=================================================================\n",
            " mobilenetv2_1.00_224 (Func  (None, 1, 1, 1280)        2257984   \n",
            " tional)                                                         \n",
            "                                                                 \n",
            " flatten_3 (Flatten)         (None, 1280)              0         \n",
            "                                                                 \n",
            " dense_8 (Dense)             (None, 1024)              1311744   \n",
            "                                                                 \n",
            " dropout_3 (Dropout)         (None, 1024)              0         \n",
            "                                                                 \n",
            " dense_9 (Dense)             (None, 512)               524800    \n",
            "                                                                 \n",
            " dense_10 (Dense)            (None, 26)                13338     \n",
            "                                                                 \n",
            "=================================================================\n",
            "Total params: 4107866 (15.67 MB)\n",
            "Trainable params: 4073754 (15.54 MB)\n",
            "Non-trainable params: 34112 (133.25 KB)\n",
            "_________________________________________________________________\n"
          ]
        }
      ]
    },
    {
      "cell_type": "code",
      "source": [
        "MobNetV2.compile(optimizer=opt, loss=loss, metrics=['accuracy'])"
      ],
      "metadata": {
        "id": "ywnXE5ncVSrh"
      },
      "execution_count": 58,
      "outputs": []
    },
    {
      "cell_type": "code",
      "source": [
        "history3 = MobNetV2.fit(train_gen, epochs=EPOCHS, validation_data=valid_gen, callbacks=clbck('MobileNetV2'))"
      ],
      "metadata": {
        "id": "ZjRhQlGqVUTW"
      },
      "execution_count": null,
      "outputs": []
    },
    {
      "cell_type": "code",
      "source": [
        "plt.plot(history3.history['loss'], label='Training loss')\n",
        "plt.plot(history3.history['val_loss'], label='Validation loss')\n",
        "plt.legend()\n",
        "plt.xlabel('Epochs')\n",
        "plt.ylabel('Loss value')\n",
        "plt.title(\"MobileNetV2 Training VS. Validation performance\")\n",
        "plt.show()"
      ],
      "metadata": {
        "id": "8ABSR4vFVXB4"
      },
      "execution_count": null,
      "outputs": []
    },
    {
      "cell_type": "code",
      "source": [
        "# Making a prediction out of the MobileNetV2 for the testing set for the evaluation\n",
        "prediction = MobNetV2.predict(test_gen)\n",
        "pred = list(map(lambda x: mapping_inverse[np.argmax(x)], prediction))\n",
        "y_test = list(map(lambda x: mapping_inverse[x],test_gen.classes))"
      ],
      "metadata": {
        "id": "pPgwZdRGVZHz"
      },
      "execution_count": null,
      "outputs": []
    },
    {
      "cell_type": "code",
      "source": [
        "print('\\t     The MobileNetV2 Evaluation Performance')\n",
        "print(classification_report(y_test, pred))"
      ],
      "metadata": {
        "id": "T2SGUAGnVbFp"
      },
      "execution_count": null,
      "outputs": []
    },
    {
      "cell_type": "markdown",
      "source": [
        "## 4.4 VGG19"
      ],
      "metadata": {
        "id": "midR0_5QVdcq"
      }
    },
    {
      "cell_type": "code",
      "source": [
        "# VGG19 input layers will not be FREEZED\n",
        "train_layers = VGG19(include_top=False, input_shape=IMG_SIZE)\n",
        "VG = Sequential()\n",
        "VG.add(train_layers)\n",
        "VG.add(Flatten())\n",
        "VG.add(Dense(1024, activation='selu'))\n",
        "VG.add(Dense(512, activation='selu'))\n",
        "VG.add(Dense(len(mapping), activation='softmax'))"
      ],
      "metadata": {
        "id": "0RtBFEKwVgcV",
        "colab": {
          "base_uri": "https://localhost:8080/"
        },
        "outputId": "081ba14f-9557-4c4c-f4e3-9d0d0a44a1ba"
      },
      "execution_count": 59,
      "outputs": [
        {
          "output_type": "stream",
          "name": "stdout",
          "text": [
            "Downloading data from https://storage.googleapis.com/tensorflow/keras-applications/vgg19/vgg19_weights_tf_dim_ordering_tf_kernels_notop.h5\n",
            "80134624/80134624 [==============================] - 0s 0us/step\n"
          ]
        }
      ]
    },
    {
      "cell_type": "code",
      "source": [
        "VG.summary()"
      ],
      "metadata": {
        "id": "hKitKmMHVimB",
        "colab": {
          "base_uri": "https://localhost:8080/"
        },
        "outputId": "5037ad61-472f-468f-c885-19f3ebfc8247"
      },
      "execution_count": 60,
      "outputs": [
        {
          "output_type": "stream",
          "name": "stdout",
          "text": [
            "Model: \"sequential_4\"\n",
            "_________________________________________________________________\n",
            " Layer (type)                Output Shape              Param #   \n",
            "=================================================================\n",
            " vgg19 (Functional)          (None, 1, 1, 512)         20024384  \n",
            "                                                                 \n",
            " flatten_4 (Flatten)         (None, 512)               0         \n",
            "                                                                 \n",
            " dense_11 (Dense)            (None, 1024)              525312    \n",
            "                                                                 \n",
            " dense_12 (Dense)            (None, 512)               524800    \n",
            "                                                                 \n",
            " dense_13 (Dense)            (None, 26)                13338     \n",
            "                                                                 \n",
            "=================================================================\n",
            "Total params: 21087834 (80.44 MB)\n",
            "Trainable params: 21087834 (80.44 MB)\n",
            "Non-trainable params: 0 (0.00 Byte)\n",
            "_________________________________________________________________\n"
          ]
        }
      ]
    },
    {
      "cell_type": "code",
      "source": [
        "VG.compile(optimizer=opt, loss=loss, metrics=['accuracy'])"
      ],
      "metadata": {
        "id": "jDM3M6oSVkXl"
      },
      "execution_count": 61,
      "outputs": []
    },
    {
      "cell_type": "code",
      "source": [
        "history4 = VG.fit(train_gen, validation_data=valid_gen, epochs=EPOCHS, callbacks=clbck('VGG19'))"
      ],
      "metadata": {
        "id": "ZAI7DQ7NVl8y"
      },
      "execution_count": null,
      "outputs": []
    },
    {
      "cell_type": "code",
      "source": [
        "plt.plot(history4.history['loss'], label='Training loss')\n",
        "plt.plot(history4.history['val_loss'], label='Validation loss')\n",
        "plt.legend()\n",
        "plt.xlabel('Epochs')\n",
        "plt.ylabel('Loss value')\n",
        "plt.title(\"VGG19 Training VS. Validation performance\")\n",
        "plt.show()"
      ],
      "metadata": {
        "id": "jkJtb1oIVotI"
      },
      "execution_count": null,
      "outputs": []
    },
    {
      "cell_type": "code",
      "source": [
        "# Making a prediction out of the VGG19 for the testing set for the evaluation\n",
        "prediction = VG.predict(test_gen)\n",
        "pred = list(map(lambda x: mapping_inverse[np.argmax(x)], prediction))\n",
        "y_test = list(map(lambda x: mapping_inverse[x],test_gen.classes))"
      ],
      "metadata": {
        "id": "5QsCLCzFVqty"
      },
      "execution_count": null,
      "outputs": []
    },
    {
      "cell_type": "code",
      "source": [
        "print('\\t\\tThe VGG19 Evaluation Performance')\n",
        "print(classification_report(y_test, pred))"
      ],
      "metadata": {
        "id": "93HBpoXXVsfx"
      },
      "execution_count": null,
      "outputs": []
    },
    {
      "cell_type": "markdown",
      "source": [
        "## 4.5 DenseNet121"
      ],
      "metadata": {
        "id": "2W19IB_8Vuuw"
      }
    },
    {
      "cell_type": "code",
      "source": [
        "# DenseNset121 input layers will not be FREEZED\n",
        "train_layers = DenseNet121(include_top=False, input_shape=IMG_SIZE)\n",
        "Den = Sequential()\n",
        "Den.add(train_layers)\n",
        "Den.add(Flatten())\n",
        "Den.add(Dense(1024, activation='selu'))\n",
        "Den.add(Dense(512, activation='selu'))\n",
        "Den.add(Dense(len(mapping), activation='softmax'))"
      ],
      "metadata": {
        "id": "l78yagn2VxdR",
        "colab": {
          "base_uri": "https://localhost:8080/"
        },
        "outputId": "04b7a212-a322-4338-ef24-499b35a98515"
      },
      "execution_count": 31,
      "outputs": [
        {
          "output_type": "stream",
          "name": "stdout",
          "text": [
            "Downloading data from https://storage.googleapis.com/tensorflow/keras-applications/densenet/densenet121_weights_tf_dim_ordering_tf_kernels_notop.h5\n",
            "29084464/29084464 [==============================] - 0s 0us/step\n"
          ]
        }
      ]
    },
    {
      "cell_type": "code",
      "source": [
        "Den.summary()"
      ],
      "metadata": {
        "id": "gFVkXJ8eVzg0",
        "colab": {
          "base_uri": "https://localhost:8080/"
        },
        "outputId": "66802745-7265-447d-fe7b-2032b4387bd5"
      },
      "execution_count": 32,
      "outputs": [
        {
          "output_type": "stream",
          "name": "stdout",
          "text": [
            "Model: \"sequential_2\"\n",
            "_________________________________________________________________\n",
            " Layer (type)                Output Shape              Param #   \n",
            "=================================================================\n",
            " densenet121 (Functional)    (None, 1, 1, 1024)        7037504   \n",
            "                                                                 \n",
            " flatten_2 (Flatten)         (None, 1024)              0         \n",
            "                                                                 \n",
            " dense_5 (Dense)             (None, 1024)              1049600   \n",
            "                                                                 \n",
            " dense_6 (Dense)             (None, 512)               524800    \n",
            "                                                                 \n",
            " dense_7 (Dense)             (None, 26)                13338     \n",
            "                                                                 \n",
            "=================================================================\n",
            "Total params: 8625242 (32.90 MB)\n",
            "Trainable params: 8541594 (32.58 MB)\n",
            "Non-trainable params: 83648 (326.75 KB)\n",
            "_________________________________________________________________\n"
          ]
        }
      ]
    },
    {
      "cell_type": "code",
      "source": [
        "Den.compile(optimizer=opt, loss=loss, metrics=['accuracy'])"
      ],
      "metadata": {
        "id": "q9OyKWXGV2TJ"
      },
      "execution_count": 33,
      "outputs": []
    },
    {
      "cell_type": "code",
      "source": [
        "history5 = Den.fit(train_gen, validation_data=valid_gen, epochs=10, callbacks=clbck(\"DenseNet121\"))"
      ],
      "metadata": {
        "id": "BSkkOmVqV4FZ",
        "colab": {
          "base_uri": "https://localhost:8080/"
        },
        "outputId": "5d71c237-5620-417c-ed19-b2a0a8eb8bf3"
      },
      "execution_count": 44,
      "outputs": [
        {
          "output_type": "stream",
          "name": "stdout",
          "text": [
            "Epoch 1/10\n",
            "1398/1398 [==============================] - ETA: 0s - loss: 1.8398 - accuracy: 0.5022\n",
            "Epoch 1: val_loss improved from inf to 0.80073, saving model to DenseNet121_model.keras\n",
            "1398/1398 [==============================] - 336s 221ms/step - loss: 1.8398 - accuracy: 0.5022 - val_loss: 0.8007 - val_accuracy: 0.7844 - lr: 1.0000e-05\n",
            "Epoch 2/10\n",
            "1398/1398 [==============================] - ETA: 0s - loss: 0.8099 - accuracy: 0.7735\n",
            "Epoch 2: val_loss improved from 0.80073 to 0.47372, saving model to DenseNet121_model.keras\n",
            "1398/1398 [==============================] - 307s 219ms/step - loss: 0.8099 - accuracy: 0.7735 - val_loss: 0.4737 - val_accuracy: 0.8696 - lr: 1.0000e-05\n",
            "Epoch 3/10\n",
            "1398/1398 [==============================] - ETA: 0s - loss: 0.5705 - accuracy: 0.8381\n",
            "Epoch 3: val_loss improved from 0.47372 to 0.35318, saving model to DenseNet121_model.keras\n",
            "1398/1398 [==============================] - 306s 219ms/step - loss: 0.5705 - accuracy: 0.8381 - val_loss: 0.3532 - val_accuracy: 0.9018 - lr: 1.0000e-05\n",
            "Epoch 4/10\n",
            "1398/1398 [==============================] - ETA: 0s - loss: 0.4392 - accuracy: 0.8741\n",
            "Epoch 4: val_loss improved from 0.35318 to 0.28587, saving model to DenseNet121_model.keras\n",
            "1398/1398 [==============================] - 305s 218ms/step - loss: 0.4392 - accuracy: 0.8741 - val_loss: 0.2859 - val_accuracy: 0.9177 - lr: 1.0000e-05\n",
            "Epoch 5/10\n",
            "1398/1398 [==============================] - ETA: 0s - loss: 0.3613 - accuracy: 0.8952\n",
            "Epoch 5: val_loss improved from 0.28587 to 0.24657, saving model to DenseNet121_model.keras\n",
            "1398/1398 [==============================] - 307s 220ms/step - loss: 0.3613 - accuracy: 0.8952 - val_loss: 0.2466 - val_accuracy: 0.9293 - lr: 1.0000e-05\n",
            "Epoch 6/10\n",
            "1398/1398 [==============================] - ETA: 0s - loss: 0.2970 - accuracy: 0.9140\n",
            "Epoch 6: val_loss improved from 0.24657 to 0.22373, saving model to DenseNet121_model.keras\n",
            "1398/1398 [==============================] - 304s 218ms/step - loss: 0.2970 - accuracy: 0.9140 - val_loss: 0.2237 - val_accuracy: 0.9353 - lr: 1.0000e-05\n",
            "Epoch 7/10\n",
            "1398/1398 [==============================] - ETA: 0s - loss: 0.2606 - accuracy: 0.9237\n",
            "Epoch 7: val_loss improved from 0.22373 to 0.20362, saving model to DenseNet121_model.keras\n",
            "1398/1398 [==============================] - 305s 218ms/step - loss: 0.2606 - accuracy: 0.9237 - val_loss: 0.2036 - val_accuracy: 0.9410 - lr: 1.0000e-05\n",
            "Epoch 8/10\n",
            "1398/1398 [==============================] - ETA: 0s - loss: 0.2265 - accuracy: 0.9327\n",
            "Epoch 8: val_loss improved from 0.20362 to 0.18971, saving model to DenseNet121_model.keras\n",
            "1398/1398 [==============================] - 305s 218ms/step - loss: 0.2265 - accuracy: 0.9327 - val_loss: 0.1897 - val_accuracy: 0.9450 - lr: 1.0000e-05\n",
            "Epoch 9/10\n",
            "1398/1398 [==============================] - ETA: 0s - loss: 0.1984 - accuracy: 0.9411\n",
            "Epoch 9: val_loss improved from 0.18971 to 0.18200, saving model to DenseNet121_model.keras\n",
            "1398/1398 [==============================] - 305s 218ms/step - loss: 0.1984 - accuracy: 0.9411 - val_loss: 0.1820 - val_accuracy: 0.9484 - lr: 1.0000e-05\n",
            "Epoch 10/10\n",
            "1398/1398 [==============================] - ETA: 0s - loss: 0.1778 - accuracy: 0.9470\n",
            "Epoch 10: val_loss improved from 0.18200 to 0.17349, saving model to DenseNet121_model.keras\n",
            "1398/1398 [==============================] - 305s 218ms/step - loss: 0.1778 - accuracy: 0.9470 - val_loss: 0.1735 - val_accuracy: 0.9505 - lr: 1.0000e-05\n"
          ]
        }
      ]
    },
    {
      "cell_type": "code",
      "source": [
        "plt.plot(history5.history['loss'], label='Training loss')\n",
        "plt.plot(history5.history['val_loss'], label='Validation loss')\n",
        "plt.legend()\n",
        "plt.xlabel('Epochs')\n",
        "plt.ylabel('Loss value')\n",
        "plt.title(\"DenseNet121 Training VS. Validation performance\")\n",
        "plt.show()"
      ],
      "metadata": {
        "id": "_NacPBVfV627",
        "colab": {
          "base_uri": "https://localhost:8080/",
          "height": 472
        },
        "outputId": "a2732a3b-6df5-4368-925d-de7268c3689c"
      },
      "execution_count": 45,
      "outputs": [
        {
          "output_type": "display_data",
          "data": {
            "text/plain": [
              "<Figure size 640x480 with 1 Axes>"
            ],
            "image/png": "[encoded data removed]"
          },
          "metadata": {}
        }
      ]
    },
    {
      "cell_type": "code",
      "source": [
        "# Making a prediction out of the DenseNet121 for the testing set for the evaluation\n",
        "prediction = Den.predict(test_gen)\n",
        "pred = list(map(lambda x: mapping_inverse[np.argmax(x)], prediction))\n",
        "y_test = list(map(lambda x: mapping_inverse[x],test_gen.classes))"
      ],
      "metadata": {
        "id": "e5cFGoV-V9e0",
        "colab": {
          "base_uri": "https://localhost:8080/"
        },
        "outputId": "1eb153fb-c921-4344-f0c3-45a8aae8e508"
      },
      "execution_count": 46,
      "outputs": [
        {
          "output_type": "stream",
          "name": "stdout",
          "text": [
            "799/799 [==============================] - 46s 55ms/step\n"
          ]
        }
      ]
    },
    {
      "cell_type": "code",
      "source": [
        "print('\\t\\tThe DenseNet121 Evaluation Performance')\n",
        "print(classification_report(y_test, pred))"
      ],
      "metadata": {
        "id": "C1ARkvNJV_J0",
        "colab": {
          "base_uri": "https://localhost:8080/"
        },
        "outputId": "cb7d3573-b43a-4af5-f80a-5d94a0e4f210"
      },
      "execution_count": 47,
      "outputs": [
        {
          "output_type": "stream",
          "name": "stdout",
          "text": [
            "\t\tThe DenseNet121 Evaluation Performance\n",
            "              precision    recall  f1-score   support\n",
            "\n",
            "           a       0.92      0.95      0.93       933\n",
            "           b       0.95      0.97      0.96      1014\n",
            "           c       0.94      0.94      0.94       980\n",
            "           d       0.97      0.96      0.97       974\n",
            "           e       0.93      0.93      0.93       981\n",
            "           f       0.97      0.96      0.96      1046\n",
            "           g       0.94      0.95      0.95       981\n",
            "           h       0.96      0.95      0.95       980\n",
            "           i       0.94      0.94      0.94       952\n",
            "           j       0.96      0.96      0.96       926\n",
            "           k       0.95      0.96      0.96      1002\n",
            "           l       0.93      0.93      0.93       997\n",
            "           m       0.95      0.98      0.96       974\n",
            "           n       0.97      0.92      0.95      1011\n",
            "           o       0.92      0.97      0.94       949\n",
            "           p       0.98      0.94      0.96      1005\n",
            "           q       0.97      0.96      0.96       963\n",
            "           r       0.94      0.94      0.94       975\n",
            "           s       0.95      0.95      0.95      1002\n",
            "           t       0.97      0.93      0.95      1001\n",
            "           u       0.95      0.94      0.95      1010\n",
            "           v       0.91      0.96      0.94       968\n",
            "           w       0.96      0.98      0.97       991\n",
            "           x       0.95      0.96      0.96      1000\n",
            "           y       0.98      0.94      0.96       959\n",
            "           z       0.97      0.96      0.96       986\n",
            "\n",
            "    accuracy                           0.95     25560\n",
            "   macro avg       0.95      0.95      0.95     25560\n",
            "weighted avg       0.95      0.95      0.95     25560\n",
            "\n"
          ]
        }
      ]
    },
    {
      "cell_type": "markdown",
      "source": [
        "# 5. Evaluation & Comparison"
      ],
      "metadata": {
        "id": "Y9hIKZDDWCo4"
      }
    },
    {
      "cell_type": "code",
      "source": [
        "vals = {'accuracy':[0.95,0.93,0.71,0.96,0.95], 'precision':[0.96,0.94,0.72,0.96,0.95],\n",
        "       'recall':[0.95,0.93,0.71,0.96,0.95], 'F1-Score':[0.95,0.93,0.71,0.96,0.95]}\n",
        "results = pd.DataFrame(vals, index=['Custom CNN','EfficientNetB7','MobileNetV7','VGG19',\n",
        "                                   'DenseNet121'])\n",
        "\n",
        "print(\"\\t\\tThe Evaluation results of CNN/Pre-trained models\")\n",
        "print(results)"
      ],
      "metadata": {
        "id": "-kf4KqUfWGxf",
        "colab": {
          "base_uri": "https://localhost:8080/"
        },
        "outputId": "ac7a743a-a05c-4d57-ff50-54e6070789a1"
      },
      "execution_count": 40,
      "outputs": [
        {
          "output_type": "stream",
          "name": "stdout",
          "text": [
            "\t\tThe Evaluation results of CNN/Pre-trained models\n",
            "                accuracy  precision  recall  F1-Score\n",
            "Custom CNN          0.95       0.96    0.95      0.95\n",
            "EfficientNetB7      0.93       0.94    0.93      0.93\n",
            "MobileNetV7         0.71       0.72    0.71      0.71\n",
            "VGG19               0.96       0.96    0.96      0.96\n",
            "DenseNet121         0.95       0.95    0.95      0.95\n"
          ]
        }
      ]
    },
    {
      "cell_type": "code",
      "source": [
        "sns.barplot(data=results, x=results.index, y='accuracy')\n",
        "plt.xticks(rotation=45)\n",
        "plt.title('Models Accuracy')\n",
        "plt.show()"
      ],
      "metadata": {
        "id": "KKp1Xu1PWBDn",
        "colab": {
          "base_uri": "https://localhost:8080/",
          "height": 538
        },
        "outputId": "b062f1cc-c923-4e15-bf6c-18d85b556ad1"
      },
      "execution_count": 41,
      "outputs": [
        {
          "output_type": "display_data",
          "data": {
            "text/plain": [
              "<Figure size 640x480 with 1 Axes>"
            ],
            "image/png": "[encoded data removed]"
          },
          "metadata": {}
        }
      ]
    },
    {
      "cell_type": "code",
      "source": [
        "\n",
        "sns.barplot(data=results, x=results.index, y='precision')\n",
        "plt.xticks(rotation=45)\n",
        "plt.xlabel('Models')\n",
        "plt.title('Models Precision')\n",
        "plt.show()"
      ],
      "metadata": {
        "colab": {
          "base_uri": "https://localhost:8080/",
          "height": 538
        },
        "id": "k_YWB92sYUz5",
        "outputId": "3f8f38be-be3e-450c-e3a0-50ca9501d11c"
      },
      "execution_count": 42,
      "outputs": [
        {
          "output_type": "display_data",
          "data": {
            "text/plain": [
              "<Figure size 640x480 with 1 Axes>"
            ],
            "image/png": "[encoded data removed]"
          },
          "metadata": {}
        }
      ]
    },
    {
      "cell_type": "code",
      "source": [
        "sns.barplot(data=results, x=results.index, y='recall')\n",
        "plt.xticks(rotation=45)\n",
        "plt.xlabel('Models')\n",
        "plt.title(\"Models Recall\")\n",
        "plt.show()"
      ],
      "metadata": {
        "colab": {
          "base_uri": "https://localhost:8080/",
          "height": 538
        },
        "id": "fZFdeiCWYcrA",
        "outputId": "e970acba-3168-4e9f-b187-bd957fc86528"
      },
      "execution_count": 36,
      "outputs": [
        {
          "output_type": "display_data",
          "data": {
            "text/plain": [
              "<Figure size 640x480 with 1 Axes>"
            ],
            "image/png": "[encoded data removed]"
          },
          "metadata": {}
        }
      ]
    },
    {
      "cell_type": "code",
      "source": [
        "sns.barplot(data=results, x=results.index, y='F1-Score')\n",
        "plt.xticks(rotation=45)\n",
        "plt.xlabel('Models')\n",
        "plt.title(\"Models F1-Score\")\n",
        "plt.show()"
      ],
      "metadata": {
        "colab": {
          "base_uri": "https://localhost:8080/",
          "height": 538
        },
        "id": "h2HKQ9cBYqSn",
        "outputId": "546d6e39-45f8-4af0-aec3-3bb62e643902"
      },
      "execution_count": 43,
      "outputs": [
        {
          "output_type": "display_data",
          "data": {
            "text/plain": [
              "<Figure size 640x480 with 1 Axes>"
            ],
            "image/png": "[encoded data removed]"
          },
          "metadata": {}
        }
      ]
    },
    {
      "cell_type": "markdown",
      "source": [
        "- `VGG19` shows an outstanding performance amongst all models.\n",
        "- Due technical reasons in the next section `Post-processing`, it shows that `DenseNet121` has better performance than `VGG19` on external images which will be used.\n",
        "- The `Custom CNN` shows an excellent performance on the testing set on few number of epochs, it can be enhanced with more epochs and maybe data augmentation."
      ],
      "metadata": {
        "id": "lv1izCeHYy8s"
      }
    },
    {
      "cell_type": "markdown",
      "source": [
        "# 6 Post-Processsing"
      ],
      "metadata": {
        "id": "CUAfoV11ZP7U"
      }
    },
    {
      "cell_type": "markdown",
      "source": [
        "**This section is about `Computer Vision` techniques**\n",
        "\n",
        "The image will be taken from the user/externally to be processed & input into our model. Some **LOW LEVEL COMPUTER VISION TECHNIQUES** are used in order to enhance the input image, whether it is text or handwritten, these techniques are following:\n",
        "- ***Binarization:*** The binarization function applies Ostu's binarization to grayscale image, producing a binary image.\n",
        "- ***Dilate:*** The dialte function performs morphological dilation on the binary image. The degree of dilation is adjusted based on whether processing `words` or `characters`.\n",
        "- ***Find Rectangles:*** The find_rect function identifies bounding rectangles in the binary image, sorting them based on their x-coordinate (From left to right).\n",
        "- ***Extract Characters:*** The extract function uses the aforementioned techniques to extract characters from the image. It identifies words **FIRST**, then extracts characters from each word, and with the use of the pre-trained deep learning model to recognize each character."
      ],
      "metadata": {
        "id": "IGizXXXAZS90"
      }
    },
    {
      "cell_type": "code",
      "source": [
        "# Computer Vision - Low level techniques\n",
        "def load_model():\n",
        "    model_path = '/content/DenseNet121_model.keras'\n",
        "    model = tf.keras.saving.load_model(model_path)\n",
        "    return model\n",
        "\n",
        "def convert_2_gray(image):\n",
        "    gray_image = cv2.cvtColor(image, cv2.COLOR_RGB2GRAY)\n",
        "    return gray_image\n",
        "\n",
        "def binarization(image):\n",
        "    img, thresh = cv2.threshold(image, 0,255, cv2.THRESH_OTSU|cv2.THRESH_BINARY_INV)\n",
        "    return img, thresh\n",
        "\n",
        "def dilate(image, words= False):\n",
        "    img = image.copy()\n",
        "    m = 3\n",
        "    n = m - 2                   # n less than m for Vertical structuring element to dilate chars\n",
        "    itrs = 4\n",
        "    if words:\n",
        "        m = 6\n",
        "        n = m\n",
        "        itrs = 3\n",
        "    rect_kernel = cv2.getStructuringElement(cv2.MORPH_RECT, (n, m))\n",
        "    dilation = cv2.dilate(img, rect_kernel, iterations = itrs)\n",
        "    return dilation\n",
        "\n",
        "def find_rect(image):\n",
        "    contours, hierarchy = cv2.findContours(image, cv2.RETR_EXTERNAL, cv2.CHAIN_APPROX_NONE)\n",
        "    rects = []\n",
        "\n",
        "    for cnt in contours:\n",
        "        x,y,w,h = cv2.boundingRect(cnt)  # Extract the bounding rectangle coordinates of each countour\n",
        "        rects.append([x,y,w,h])\n",
        "\n",
        "    sorted_rects = list(sorted(rects, key=lambda x: x[0])) # Sorting the rects from Left-to-Right\n",
        "    return sorted_rects\n",
        "\n",
        "def extract(image):\n",
        "    model = load_model()\n",
        "    chars = []              # a list to store recognized characters\n",
        "\n",
        "    image_cpy = image.copy()\n",
        "    _, bin_img = binarization(convert_2_gray(image_cpy))\n",
        "    full_dil_img = dilate(bin_img,words=True)\n",
        "    words = find_rect(full_dil_img)                       # Recognized words within the image\n",
        "    del _, bin_img, full_dil_img                          # for better memory usage\n",
        "\n",
        "    for word in words:\n",
        "        x,y,w,h = word                                    # coordinates of the word\n",
        "        img = image_cpy[y:y+h, x:x+w]\n",
        "\n",
        "        _, bin_img = binarization(convert_2_gray(img))\n",
        "        dil_img = dilate(bin_img)\n",
        "        char_parts = find_rect(dil_img)                     # Recognized chars withtin the word\n",
        "        cv2.rectangle(image, (x,y),(x+w,y+h), (0,255,0), 3) # draw a green rectangle around the word\n",
        "\n",
        "        del _, bin_img, dil_img\n",
        "\n",
        "        for char in char_parts:\n",
        "            x,y,w,h = char\n",
        "            ch = img[y:y+h, x:x+w]\n",
        "\n",
        "            empty_img = np.full((32,32,1),255, dtype=np.uint8) # a white image used for resize with filling\n",
        "            x,y = 3,3                                          # starting indecies\n",
        "            resized = cv2.resize(ch, (16,22), interpolation=cv2.INTER_CUBIC)\n",
        "            gray = convert_2_gray(resized)\n",
        "            empty_img[y:y+22, x:x+16,0] = gray.copy()          # integrate the recognized char into the white image\n",
        "            gray = cv2.cvtColor(empty_img, cv2.COLOR_GRAY2RGB)\n",
        "            gray = gray.astype(np.int32)\n",
        "\n",
        "            predicted = mapping_inverse[np.argmax(model.predict(np.array([gray]), verbose=-1))]\n",
        "            chars.append(predicted)                            # append the character into the list\n",
        "\n",
        "            del ch, resized, gray, empty_img\n",
        "        chars.append(' ')  # at the end of each iteration (end of word) append a space\n",
        "\n",
        "    del model\n",
        "    show_image(image)\n",
        "    return ''.join(chars[:-1])"
      ],
      "metadata": {
        "id": "NTJcuDXNaVE1"
      },
      "execution_count": 52,
      "outputs": []
    },
    {
      "cell_type": "markdown",
      "source": [
        "## 6.1 Testing"
      ],
      "metadata": {
        "id": "NVSzsbStbnqE"
      }
    },
    {
      "cell_type": "code",
      "source": [
        "# testing 1\n",
        "img = read_image('/content/Frame 15.png')\n",
        "text = extract(img)\n",
        "print('-->',text)"
      ],
      "metadata": {
        "colab": {
          "base_uri": "https://localhost:8080/",
          "height": 204
        },
        "id": "DMrWyyQZbrcT",
        "outputId": "27b83bb5-dd2a-49b8-d67d-83969b4e0744"
      },
      "execution_count": 53,
      "outputs": [
        {
          "output_type": "display_data",
          "data": {
            "text/plain": [
              "<Figure size 640x480 with 1 Axes>"
            ],
            "image/png": "[encoded data removed]"
          },
          "metadata": {}
        },
        {
          "output_type": "stream",
          "name": "stdout",
          "text": [
            "--> gomputervisionanddeepiearning\n"
          ]
        }
      ]
    },
    {
      "cell_type": "code",
      "source": [
        "# testing 2\n",
        "img = read_image('/content/__results___69_0.png')\n",
        "text = extract(img)\n",
        "print('-->',text)"
      ],
      "metadata": {
        "colab": {
          "base_uri": "https://localhost:8080/",
          "height": 169
        },
        "id": "guCw336rpwAf",
        "outputId": "84ba7362-f907-49c4-a03b-2910082d8608"
      },
      "execution_count": 54,
      "outputs": [
        {
          "output_type": "display_data",
          "data": {
            "text/plain": [
              "<Figure size 640x480 with 1 Axes>"
            ],
            "image/png": "[encoded data removed]"
          },
          "metadata": {}
        },
        {
          "output_type": "stream",
          "name": "stdout",
          "text": [
            "--> gompuiervisionanddeeptearning\n"
          ]
        }
      ]
    },
    {
      "cell_type": "markdown",
      "source": [
        "# 7 Conclusion"
      ],
      "metadata": {
        "id": "f1MsTTpVq_dl"
      }
    },
    {
      "cell_type": "markdown",
      "source": [
        "This OCR implemention combines low-level computer vision techniques with deep learning for character recognition.\n"
      ],
      "metadata": {
        "id": "0az898R6ryVk"
      }
    }
  ]
}